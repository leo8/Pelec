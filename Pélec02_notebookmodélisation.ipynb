{
 "cells": [
  {
   "cell_type": "markdown",
   "id": "ed78b564",
   "metadata": {},
   "source": [
    "<h1>Projet 2<br/>\n",
    "Anticipez les besoins en consommation électrique de bâtiments</h1><br />\n",
    "\n",
    "<h2>Notebook 2 : Modélisation<br/ >"
   ]
  },
  {
   "cell_type": "markdown",
   "id": "0f602bd3",
   "metadata": {},
   "source": [
    "<font color=\"#1d479b\"><h2>Plan du notebook</h2></font>\n",
    "<h3><font color=\"#1d479b\">1. Preprocessing et Baseline</font></h3>\n",
    "\n",
    "1. [Imports](#section_1)<br>\n",
    "1. [Echantillonnage des données](#section_2)<br>\n",
    "1. [Standardisation et Encodage](#section_3)<br>\n",
    "1. [Choix des modèles de la baseline et de la métrique](#section_4)<br>\n",
    "\n",
    "<h3><font color=\"#1d479b\">2. Création d'un modèle performant à partir de la Baseline</font></h3>\n",
    "\n",
    "1. [Feature Engineering](#section_2_1)\n",
    "1. [Tuning des hyperparamètres](#section_2_2)<br>\n",
    "1. [Performances des modèles finaux](#section_2_3)<br>\n",
    "1. [Feature Importance : l'intérêt de l'ENERGYSTARScore](#section_2_4)  \n"
   ]
  },
  {
   "cell_type": "markdown",
   "id": "b8795bde",
   "metadata": {},
   "source": [
    "<h3><font color=\"#1d479b\">1. Preprocessing et Baseline</font></h3>"
   ]
  },
  {
   "cell_type": "markdown",
   "id": "984b1ae0",
   "metadata": {},
   "source": [
    "<font color=\"#337da4\"><h3>1. Imports</h3><a class=\"anchor\" id=\"section_1\"></a></font>"
   ]
  },
  {
   "cell_type": "code",
   "execution_count": 1,
   "id": "7a71efd3",
   "metadata": {},
   "outputs": [],
   "source": [
    "import pandas as pd\n",
    "import matplotlib.pyplot as plt\n",
    "import seaborn as sns\n",
    "import numpy as np\n",
    "import os\n",
    "import math"
   ]
  },
  {
   "cell_type": "code",
   "execution_count": 2,
   "id": "5c3688f0",
   "metadata": {},
   "outputs": [],
   "source": [
    "from sklearn.model_selection import train_test_split\n",
    "from sklearn.preprocessing import StandardScaler, OneHotEncoder\n",
    "from sklearn.compose import make_column_transformer"
   ]
  },
  {
   "cell_type": "markdown",
   "id": "d656274d",
   "metadata": {},
   "source": [
    "<font color=\"#337da4\"><h3>2. Echantillonnage des données</h3><a class=\"anchor\" id=\"section_2\"></a></font>"
   ]
  },
  {
   "cell_type": "code",
   "execution_count": 3,
   "id": "fce35c2a",
   "metadata": {},
   "outputs": [],
   "source": [
    "data = pd.read_csv('clean_data.csv')\n",
    "data.drop(['Unnamed: 0','OSEBuildingID', 'DataYear', 'geometry'], axis=1, inplace=True)"
   ]
  },
  {
   "cell_type": "code",
   "execution_count": 4,
   "id": "a5beb164",
   "metadata": {},
   "outputs": [
    {
     "data": {
      "text/html": [
       "<div>\n",
       "<style scoped>\n",
       "    .dataframe tbody tr th:only-of-type {\n",
       "        vertical-align: middle;\n",
       "    }\n",
       "\n",
       "    .dataframe tbody tr th {\n",
       "        vertical-align: top;\n",
       "    }\n",
       "\n",
       "    .dataframe thead th {\n",
       "        text-align: right;\n",
       "    }\n",
       "</style>\n",
       "<table border=\"1\" class=\"dataframe\">\n",
       "  <thead>\n",
       "    <tr style=\"text-align: right;\">\n",
       "      <th></th>\n",
       "      <th>BuildingType</th>\n",
       "      <th>PrimaryPropertyType</th>\n",
       "      <th>CouncilDistrictCode</th>\n",
       "      <th>Neighborhood</th>\n",
       "      <th>NumberofBuildings</th>\n",
       "      <th>NumberofFloors</th>\n",
       "      <th>PropertyGFATotal</th>\n",
       "      <th>PropertyGFAParking</th>\n",
       "      <th>PropertyGFABuilding(s)</th>\n",
       "      <th>LargestPropertyUseType</th>\n",
       "      <th>...</th>\n",
       "      <th>ThirdLargestPropertyUseTypeGFA</th>\n",
       "      <th>ENERGYSTARScore</th>\n",
       "      <th>SiteEnergyUse(kBtu)</th>\n",
       "      <th>SteamUse(kBtu)</th>\n",
       "      <th>Electricity(kBtu)</th>\n",
       "      <th>NaturalGas(kBtu)</th>\n",
       "      <th>TotalGHGEmissions</th>\n",
       "      <th>Latitude</th>\n",
       "      <th>Longitude</th>\n",
       "      <th>BuildingAge</th>\n",
       "    </tr>\n",
       "  </thead>\n",
       "  <tbody>\n",
       "    <tr>\n",
       "      <th>0</th>\n",
       "      <td>nonresidential</td>\n",
       "      <td>hotel</td>\n",
       "      <td>7</td>\n",
       "      <td>DOWNTOWN</td>\n",
       "      <td>1.0</td>\n",
       "      <td>12.0</td>\n",
       "      <td>88434</td>\n",
       "      <td>0</td>\n",
       "      <td>88434</td>\n",
       "      <td>hotel</td>\n",
       "      <td>...</td>\n",
       "      <td>0.0</td>\n",
       "      <td>65.0</td>\n",
       "      <td>6981428.0</td>\n",
       "      <td>2023032.0</td>\n",
       "      <td>3686160.0</td>\n",
       "      <td>1272388.0</td>\n",
       "      <td>249.705</td>\n",
       "      <td>47.612190</td>\n",
       "      <td>-122.337997</td>\n",
       "      <td>88</td>\n",
       "    </tr>\n",
       "    <tr>\n",
       "      <th>1</th>\n",
       "      <td>nonresidential</td>\n",
       "      <td>hotel</td>\n",
       "      <td>7</td>\n",
       "      <td>DOWNTOWN</td>\n",
       "      <td>1.0</td>\n",
       "      <td>11.0</td>\n",
       "      <td>103566</td>\n",
       "      <td>15064</td>\n",
       "      <td>88502</td>\n",
       "      <td>hotel</td>\n",
       "      <td>...</td>\n",
       "      <td>4622.0</td>\n",
       "      <td>51.0</td>\n",
       "      <td>8354235.0</td>\n",
       "      <td>0.0</td>\n",
       "      <td>3905411.0</td>\n",
       "      <td>4448985.0</td>\n",
       "      <td>279.685</td>\n",
       "      <td>47.613106</td>\n",
       "      <td>-122.333358</td>\n",
       "      <td>19</td>\n",
       "    </tr>\n",
       "    <tr>\n",
       "      <th>2</th>\n",
       "      <td>nonresidential</td>\n",
       "      <td>hotel</td>\n",
       "      <td>7</td>\n",
       "      <td>DOWNTOWN</td>\n",
       "      <td>1.0</td>\n",
       "      <td>41.0</td>\n",
       "      <td>961990</td>\n",
       "      <td>0</td>\n",
       "      <td>961990</td>\n",
       "      <td>hotel</td>\n",
       "      <td>...</td>\n",
       "      <td>0.0</td>\n",
       "      <td>18.0</td>\n",
       "      <td>73130656.0</td>\n",
       "      <td>19660404.0</td>\n",
       "      <td>49762435.0</td>\n",
       "      <td>3709900.0</td>\n",
       "      <td>2061.480</td>\n",
       "      <td>47.613349</td>\n",
       "      <td>-122.337699</td>\n",
       "      <td>46</td>\n",
       "    </tr>\n",
       "    <tr>\n",
       "      <th>3</th>\n",
       "      <td>nonresidential</td>\n",
       "      <td>hotel</td>\n",
       "      <td>7</td>\n",
       "      <td>DOWNTOWN</td>\n",
       "      <td>1.0</td>\n",
       "      <td>10.0</td>\n",
       "      <td>61320</td>\n",
       "      <td>0</td>\n",
       "      <td>61320</td>\n",
       "      <td>hotel</td>\n",
       "      <td>...</td>\n",
       "      <td>0.0</td>\n",
       "      <td>1.0</td>\n",
       "      <td>28229320.0</td>\n",
       "      <td>23458518.0</td>\n",
       "      <td>2769023.0</td>\n",
       "      <td>2001894.0</td>\n",
       "      <td>1111.385</td>\n",
       "      <td>47.614216</td>\n",
       "      <td>-122.336609</td>\n",
       "      <td>89</td>\n",
       "    </tr>\n",
       "    <tr>\n",
       "      <th>4</th>\n",
       "      <td>nonresidential</td>\n",
       "      <td>hotel</td>\n",
       "      <td>7</td>\n",
       "      <td>DOWNTOWN</td>\n",
       "      <td>1.0</td>\n",
       "      <td>18.0</td>\n",
       "      <td>119890</td>\n",
       "      <td>12460</td>\n",
       "      <td>107430</td>\n",
       "      <td>hotel</td>\n",
       "      <td>...</td>\n",
       "      <td>0.0</td>\n",
       "      <td>67.0</td>\n",
       "      <td>14829099.0</td>\n",
       "      <td>0.0</td>\n",
       "      <td>6066245.0</td>\n",
       "      <td>8763105.0</td>\n",
       "      <td>507.700</td>\n",
       "      <td>47.613754</td>\n",
       "      <td>-122.340924</td>\n",
       "      <td>35</td>\n",
       "    </tr>\n",
       "  </tbody>\n",
       "</table>\n",
       "<p>5 rows × 24 columns</p>\n",
       "</div>"
      ],
      "text/plain": [
       "     BuildingType PrimaryPropertyType  CouncilDistrictCode Neighborhood  \\\n",
       "0  nonresidential               hotel                    7     DOWNTOWN   \n",
       "1  nonresidential               hotel                    7     DOWNTOWN   \n",
       "2  nonresidential               hotel                    7     DOWNTOWN   \n",
       "3  nonresidential               hotel                    7     DOWNTOWN   \n",
       "4  nonresidential               hotel                    7     DOWNTOWN   \n",
       "\n",
       "   NumberofBuildings  NumberofFloors  PropertyGFATotal  PropertyGFAParking  \\\n",
       "0                1.0            12.0             88434                   0   \n",
       "1                1.0            11.0            103566               15064   \n",
       "2                1.0            41.0            961990                   0   \n",
       "3                1.0            10.0             61320                   0   \n",
       "4                1.0            18.0            119890               12460   \n",
       "\n",
       "   PropertyGFABuilding(s) LargestPropertyUseType  ...  \\\n",
       "0                   88434                  hotel  ...   \n",
       "1                   88502                  hotel  ...   \n",
       "2                  961990                  hotel  ...   \n",
       "3                   61320                  hotel  ...   \n",
       "4                  107430                  hotel  ...   \n",
       "\n",
       "   ThirdLargestPropertyUseTypeGFA ENERGYSTARScore  SiteEnergyUse(kBtu)  \\\n",
       "0                             0.0            65.0            6981428.0   \n",
       "1                          4622.0            51.0            8354235.0   \n",
       "2                             0.0            18.0           73130656.0   \n",
       "3                             0.0             1.0           28229320.0   \n",
       "4                             0.0            67.0           14829099.0   \n",
       "\n",
       "  SteamUse(kBtu)  Electricity(kBtu)  NaturalGas(kBtu)  TotalGHGEmissions  \\\n",
       "0      2023032.0          3686160.0         1272388.0            249.705   \n",
       "1            0.0          3905411.0         4448985.0            279.685   \n",
       "2     19660404.0         49762435.0         3709900.0           2061.480   \n",
       "3     23458518.0          2769023.0         2001894.0           1111.385   \n",
       "4            0.0          6066245.0         8763105.0            507.700   \n",
       "\n",
       "    Latitude   Longitude  BuildingAge  \n",
       "0  47.612190 -122.337997           88  \n",
       "1  47.613106 -122.333358           19  \n",
       "2  47.613349 -122.337699           46  \n",
       "3  47.614216 -122.336609           89  \n",
       "4  47.613754 -122.340924           35  \n",
       "\n",
       "[5 rows x 24 columns]"
      ]
     },
     "execution_count": 4,
     "metadata": {},
     "output_type": "execute_result"
    }
   ],
   "source": [
    "data.head()"
   ]
  },
  {
   "cell_type": "code",
   "execution_count": 5,
   "id": "e011df44",
   "metadata": {},
   "outputs": [
    {
     "data": {
      "text/plain": [
       "Index(['BuildingType', 'PrimaryPropertyType', 'CouncilDistrictCode',\n",
       "       'Neighborhood', 'NumberofBuildings', 'NumberofFloors',\n",
       "       'PropertyGFATotal', 'PropertyGFAParking', 'PropertyGFABuilding(s)',\n",
       "       'LargestPropertyUseType', 'LargestPropertyUseTypeGFA',\n",
       "       'SecondLargestPropertyUseType', 'SecondLargestPropertyUseTypeGFA',\n",
       "       'ThirdLargestPropertyUseType', 'ThirdLargestPropertyUseTypeGFA',\n",
       "       'ENERGYSTARScore', 'SiteEnergyUse(kBtu)', 'SteamUse(kBtu)',\n",
       "       'Electricity(kBtu)', 'NaturalGas(kBtu)', 'TotalGHGEmissions',\n",
       "       'Latitude', 'Longitude', 'BuildingAge'],\n",
       "      dtype='object')"
      ]
     },
     "execution_count": 5,
     "metadata": {},
     "output_type": "execute_result"
    }
   ],
   "source": [
    "data.columns"
   ]
  },
  {
   "cell_type": "markdown",
   "id": "d0eaa0ff",
   "metadata": {},
   "source": [
    "### Normalisation des données des variables cibles"
   ]
  },
  {
   "cell_type": "markdown",
   "id": "a2b4b88f",
   "metadata": {},
   "source": [
    "Afin de lisser la distribution assymétrique de nos variables cibles, nous allons ici les normaliser en appliquant un logarithme népérien aux différentes valeurs de TotalGHGEmissions et SiteEnergyUse(kBtu)."
   ]
  },
  {
   "cell_type": "code",
   "execution_count": 6,
   "id": "301e4ed9",
   "metadata": {},
   "outputs": [],
   "source": [
    "def to_log(x):\n",
    "    if x > 0:\n",
    "        return math.log(x)\n",
    "    else:\n",
    "        return x"
   ]
  },
  {
   "cell_type": "code",
   "execution_count": 7,
   "id": "5c5d99f5",
   "metadata": {},
   "outputs": [],
   "source": [
    "data['TotalGHGEmissions'] = data['TotalGHGEmissions'].apply(to_log)\n",
    "data['SiteEnergyUse(kBtu)'] = data['SiteEnergyUse(kBtu)'].apply(to_log)"
   ]
  },
  {
   "cell_type": "markdown",
   "id": "00365a4c",
   "metadata": {},
   "source": [
    "### Echantillonnage des données"
   ]
  },
  {
   "cell_type": "markdown",
   "id": "28cc2145",
   "metadata": {},
   "source": [
    "On va échantilloner nos données pour conserver un set de validation final avec 20% de nos données."
   ]
  },
  {
   "cell_type": "code",
   "execution_count": 8,
   "id": "a6ce7e8b",
   "metadata": {},
   "outputs": [],
   "source": [
    "train_set, val_set = train_test_split(data, test_size=0.20)"
   ]
  },
  {
   "cell_type": "code",
   "execution_count": 9,
   "id": "ea17adc8",
   "metadata": {},
   "outputs": [
    {
     "data": {
      "text/plain": [
       "(1150, 288)"
      ]
     },
     "execution_count": 9,
     "metadata": {},
     "output_type": "execute_result"
    }
   ],
   "source": [
    "train_set.shape[0], val_set.shape[0]"
   ]
  },
  {
   "cell_type": "code",
   "execution_count": 10,
   "id": "ac665f86",
   "metadata": {},
   "outputs": [],
   "source": [
    "y_train_emissions, y_val_emissions = (train_set['TotalGHGEmissions'],\n",
    "                                val_set['TotalGHGEmissions']\n",
    "                                )"
   ]
  },
  {
   "cell_type": "code",
   "execution_count": 11,
   "id": "43c2af11",
   "metadata": {},
   "outputs": [],
   "source": [
    "y_train_energy, y_val_energy = (train_set['SiteEnergyUse(kBtu)'],\n",
    "                                val_set['SiteEnergyUse(kBtu)']\n",
    "                                )"
   ]
  },
  {
   "cell_type": "code",
   "execution_count": 12,
   "id": "6c04f4a4",
   "metadata": {},
   "outputs": [],
   "source": [
    "X_train, X_val = (train_set.drop(['TotalGHGEmissions', 'SiteEnergyUse(kBtu)'], axis=1),\n",
    "                  val_set.drop(['TotalGHGEmissions', 'SiteEnergyUse(kBtu)'], axis=1)\n",
    "                 )"
   ]
  },
  {
   "cell_type": "markdown",
   "id": "e4638c35",
   "metadata": {},
   "source": [
    "<font color=\"#337da4\"><h3>3. Standardisation et Encodage</h3><a class=\"anchor\" id=\"section_3\"></a></font>"
   ]
  },
  {
   "cell_type": "code",
   "execution_count": 13,
   "id": "4b1b3071",
   "metadata": {},
   "outputs": [
    {
     "data": {
      "text/plain": [
       "Index(['BuildingType', 'PrimaryPropertyType', 'CouncilDistrictCode',\n",
       "       'Neighborhood', 'NumberofBuildings', 'NumberofFloors',\n",
       "       'PropertyGFATotal', 'PropertyGFAParking', 'PropertyGFABuilding(s)',\n",
       "       'LargestPropertyUseType', 'LargestPropertyUseTypeGFA',\n",
       "       'SecondLargestPropertyUseType', 'SecondLargestPropertyUseTypeGFA',\n",
       "       'ThirdLargestPropertyUseType', 'ThirdLargestPropertyUseTypeGFA',\n",
       "       'ENERGYSTARScore', 'SteamUse(kBtu)', 'Electricity(kBtu)',\n",
       "       'NaturalGas(kBtu)', 'Latitude', 'Longitude', 'BuildingAge'],\n",
       "      dtype='object')"
      ]
     },
     "execution_count": 13,
     "metadata": {},
     "output_type": "execute_result"
    }
   ],
   "source": [
    "X_train.columns"
   ]
  },
  {
   "cell_type": "code",
   "execution_count": 14,
   "id": "f8001b59",
   "metadata": {},
   "outputs": [],
   "source": [
    "baseline_X_train = X_train.drop(['SteamUse(kBtu)', 'Electricity(kBtu)', 'NaturalGas(kBtu)'], axis=1)"
   ]
  },
  {
   "cell_type": "code",
   "execution_count": 15,
   "id": "9686b460",
   "metadata": {},
   "outputs": [],
   "source": [
    "numerical_features = ['CouncilDistrictCode',\n",
    "                      'NumberofBuildings',\n",
    "                      'NumberofFloors',\n",
    "                      'PropertyGFATotal',\n",
    "                      'PropertyGFAParking',\n",
    "                      'PropertyGFABuilding(s)',\n",
    "                      'LargestPropertyUseTypeGFA',\n",
    "                      'SecondLargestPropertyUseTypeGFA',\n",
    "                      'ThirdLargestPropertyUseTypeGFA',\n",
    "                      'ENERGYSTARScore',\n",
    "                      'Latitude',\n",
    "                      'Longitude',\n",
    "                      'BuildingAge'\n",
    "                     ]\n",
    "\n",
    "categorical_features = ['BuildingType', \n",
    "                               'PrimaryPropertyType', \n",
    "                               'Neighborhood', \n",
    "                               'LargestPropertyUseType', \n",
    "                               'SecondLargestPropertyUseType', \n",
    "                               'ThirdLargestPropertyUseType']\n",
    "\n",
    "numerical_encoder = StandardScaler()\n",
    "OneHot_encoder = OneHotEncoder(handle_unknown='ignore')"
   ]
  },
  {
   "cell_type": "code",
   "execution_count": 16,
   "id": "be7f8467",
   "metadata": {},
   "outputs": [],
   "source": [
    "transformer = make_column_transformer((numerical_encoder, numerical_features),\n",
    "                                      (OneHot_encoder, categorical_features), \n",
    "                                      remainder = 'passthrough')"
   ]
  },
  {
   "cell_type": "code",
   "execution_count": 17,
   "id": "df599429",
   "metadata": {},
   "outputs": [],
   "source": [
    "preprocessed_baseline_X_train = transformer.fit_transform(baseline_X_train)"
   ]
  },
  {
   "cell_type": "markdown",
   "id": "e0984caf",
   "metadata": {},
   "source": [
    "<font color=\"#337da4\"><h3>4. Choix des modèles de la Baseline et de la Métrique</h3><a class=\"anchor\" id=\"section_4\"></a></font>"
   ]
  },
  {
   "cell_type": "markdown",
   "id": "62416ed6",
   "metadata": {},
   "source": [
    "## Métrique"
   ]
  },
  {
   "cell_type": "markdown",
   "id": "f9da5109",
   "metadata": {},
   "source": [
    "Déjà, on a deux variables target, donc pour chaque modèle il faudra évaluer les performances pour les deux cibles. On va donc créer deux modèles distincts pour affiner les performances sur chacune des deux targets."
   ]
  },
  {
   "cell_type": "code",
   "execution_count": 18,
   "id": "2cd70777",
   "metadata": {},
   "outputs": [],
   "source": [
    "from sklearn.metrics import *"
   ]
  },
  {
   "cell_type": "markdown",
   "id": "f9093990",
   "metadata": {},
   "source": [
    "On va utiliser différentes métriques pour évaluer la performance de nos modèles. On va utiliser : \n",
    "- la MAE, moyenne de la valeur absolue des erreurs ;\n",
    "- la RMSE, qui pénalise les grandes erreurs en accordant une importance exponentielle à l'erreur à mesure que son amplitude augmente ;\n",
    "- le coefficient de détermination R2, qui permet de pondérer la variance de l'erreur en fonction de la variance totale des données."
   ]
  },
  {
   "cell_type": "markdown",
   "id": "4f13cb63",
   "metadata": {},
   "source": [
    "On définit une fonction pour afficher un petit tableau récapitulatif des performances de nos modèles pour ces différents indicateurs."
   ]
  },
  {
   "cell_type": "markdown",
   "id": "2a4005ec",
   "metadata": {},
   "source": [
    "## Baseline"
   ]
  },
  {
   "cell_type": "markdown",
   "id": "aaeae5af",
   "metadata": {},
   "source": [
    "On va utiliser différents modèles de régression : Lasso, RandomForestRegressor, GradientBoostingRegressor, XGboost et LightGBM. "
   ]
  },
  {
   "cell_type": "code",
   "execution_count": 19,
   "id": "762f4fca",
   "metadata": {},
   "outputs": [],
   "source": [
    "from sklearn.linear_model import Lasso\n",
    "from sklearn.ensemble import RandomForestRegressor, GradientBoostingRegressor\n",
    "from xgboost import XGBRegressor\n",
    "from lightgbm import LGBMRegressor"
   ]
  },
  {
   "cell_type": "code",
   "execution_count": 20,
   "id": "3f099824",
   "metadata": {},
   "outputs": [],
   "source": [
    "model_Lasso = Lasso()\n",
    "model_rfg = RandomForestRegressor()\n",
    "model_gbr = GradientBoostingRegressor()\n",
    "model_xgb = XGBRegressor()\n",
    "model_lgb = LGBMRegressor()"
   ]
  },
  {
   "cell_type": "code",
   "execution_count": 21,
   "id": "18c1192c",
   "metadata": {},
   "outputs": [],
   "source": [
    "from sklearn.metrics import mean_absolute_error\n",
    "from sklearn.metrics import mean_squared_error\n",
    "from sklearn.metrics import r2_score\n",
    "from sklearn.model_selection import cross_validate\n",
    "from IPython.display import display\n",
    "\n",
    "pd.set_option('display.max_rows', None)\n",
    "pd.set_option('display.max_columns', None)\n",
    "\n",
    "metrics = ['r2', 'neg_mean_absolute_error', 'neg_root_mean_squared_error']\n",
    "\n",
    "def evaluate(list_models, X_train, y_train):\n",
    "    \"\"\"Fonction prenant la liste des modèles à évaluer en entrée, ainsi que les données d'entraînement et de test\n",
    "    et ressort un dataframe avec la moyenne des scores de chaque modèle sur 5 cross validation pour les différentes\n",
    "    métriques choisies\"\"\"\n",
    "    \n",
    "    \n",
    "    c_model = []\n",
    "    c_fit_time = []\n",
    "    c_score_time = []\n",
    "    c_test_r2 = []\n",
    "    c_test_neg_mean_absolute_error = []\n",
    "    c_test_neg_root_mean_squared_error = []\n",
    "    \n",
    "    for model in list_models:\n",
    "\n",
    "\n",
    "        df = pd.DataFrame.from_dict(cross_validate(model, X_train, y_train, scoring=metrics))\n",
    "        \n",
    "        # On prend le nom du modèle\n",
    "        c_model.append(str(model).split('(')[0])\n",
    "        \n",
    "        #On prend la moyenne des scores du modèle sur 5 cross validation\n",
    "        c_fit_time.append(df['fit_time'].mean())\n",
    "        c_score_time.append(df['score_time'].mean())\n",
    "        c_test_r2.append(df['test_r2'].mean())\n",
    "        c_test_neg_mean_absolute_error.append(df['test_neg_mean_absolute_error'].mean())\n",
    "        c_test_neg_root_mean_squared_error.append(df['test_neg_root_mean_squared_error'].mean())\n",
    "        \n",
    "        \n",
    "    dic_res = {'model': c_model,\n",
    "               'fit_time': c_fit_time,\n",
    "               'score_time': c_score_time,\n",
    "               'test_r2': c_test_r2,\n",
    "               'test_neg_mean_absolute_error': c_test_neg_mean_absolute_error,\n",
    "               'test_neg_root_mean_squared_error': c_test_neg_root_mean_squared_error\n",
    "            \n",
    "    }\n",
    "    \n",
    "    df_res = pd.DataFrame.from_dict(dic_res)\n",
    "    display(df_res)"
   ]
  },
  {
   "cell_type": "code",
   "execution_count": 22,
   "id": "9fafb875",
   "metadata": {},
   "outputs": [],
   "source": [
    "d = {'col1': [1, 2], 'col2': [3, 4]}\n",
    "df = pd.DataFrame(data=d)"
   ]
  },
  {
   "cell_type": "code",
   "execution_count": 23,
   "id": "2243d1f8",
   "metadata": {},
   "outputs": [],
   "source": [
    "list_models = (model_Lasso, model_rfg, model_gbr, model_xgb, model_lgb)"
   ]
  },
  {
   "cell_type": "code",
   "execution_count": 24,
   "id": "229f5e11",
   "metadata": {},
   "outputs": [
    {
     "data": {
      "text/html": [
       "<div>\n",
       "<style scoped>\n",
       "    .dataframe tbody tr th:only-of-type {\n",
       "        vertical-align: middle;\n",
       "    }\n",
       "\n",
       "    .dataframe tbody tr th {\n",
       "        vertical-align: top;\n",
       "    }\n",
       "\n",
       "    .dataframe thead th {\n",
       "        text-align: right;\n",
       "    }\n",
       "</style>\n",
       "<table border=\"1\" class=\"dataframe\">\n",
       "  <thead>\n",
       "    <tr style=\"text-align: right;\">\n",
       "      <th></th>\n",
       "      <th>model</th>\n",
       "      <th>fit_time</th>\n",
       "      <th>score_time</th>\n",
       "      <th>test_r2</th>\n",
       "      <th>test_neg_mean_absolute_error</th>\n",
       "      <th>test_neg_root_mean_squared_error</th>\n",
       "    </tr>\n",
       "  </thead>\n",
       "  <tbody>\n",
       "    <tr>\n",
       "      <th>0</th>\n",
       "      <td>Lasso</td>\n",
       "      <td>0.001954</td>\n",
       "      <td>0.000463</td>\n",
       "      <td>-0.008616</td>\n",
       "      <td>-1.209999</td>\n",
       "      <td>-1.547054</td>\n",
       "    </tr>\n",
       "    <tr>\n",
       "      <th>1</th>\n",
       "      <td>RandomForestRegressor</td>\n",
       "      <td>1.094350</td>\n",
       "      <td>0.007042</td>\n",
       "      <td>0.692194</td>\n",
       "      <td>-0.651015</td>\n",
       "      <td>-0.852220</td>\n",
       "    </tr>\n",
       "    <tr>\n",
       "      <th>2</th>\n",
       "      <td>GradientBoostingRegressor</td>\n",
       "      <td>0.190479</td>\n",
       "      <td>0.001143</td>\n",
       "      <td>0.662246</td>\n",
       "      <td>-0.699851</td>\n",
       "      <td>-0.893409</td>\n",
       "    </tr>\n",
       "    <tr>\n",
       "      <th>3</th>\n",
       "      <td>XGBRegressor</td>\n",
       "      <td>0.107396</td>\n",
       "      <td>0.002359</td>\n",
       "      <td>0.668327</td>\n",
       "      <td>-0.650176</td>\n",
       "      <td>-0.883910</td>\n",
       "    </tr>\n",
       "    <tr>\n",
       "      <th>4</th>\n",
       "      <td>LGBMRegressor</td>\n",
       "      <td>0.126153</td>\n",
       "      <td>0.001856</td>\n",
       "      <td>0.687493</td>\n",
       "      <td>-0.645522</td>\n",
       "      <td>-0.859789</td>\n",
       "    </tr>\n",
       "  </tbody>\n",
       "</table>\n",
       "</div>"
      ],
      "text/plain": [
       "                       model  fit_time  score_time   test_r2  \\\n",
       "0                      Lasso  0.001954    0.000463 -0.008616   \n",
       "1      RandomForestRegressor  1.094350    0.007042  0.692194   \n",
       "2  GradientBoostingRegressor  0.190479    0.001143  0.662246   \n",
       "3               XGBRegressor  0.107396    0.002359  0.668327   \n",
       "4              LGBMRegressor  0.126153    0.001856  0.687493   \n",
       "\n",
       "   test_neg_mean_absolute_error  test_neg_root_mean_squared_error  \n",
       "0                     -1.209999                         -1.547054  \n",
       "1                     -0.651015                         -0.852220  \n",
       "2                     -0.699851                         -0.893409  \n",
       "3                     -0.650176                         -0.883910  \n",
       "4                     -0.645522                         -0.859789  "
      ]
     },
     "metadata": {},
     "output_type": "display_data"
    }
   ],
   "source": [
    "evaluate(list_models, preprocessed_baseline_X_train, y_train_emissions)"
   ]
  },
  {
   "cell_type": "markdown",
   "id": "29adf7e0",
   "metadata": {},
   "source": [
    "<h3><font color=\"#1d479b\">2. Création d'un modèle performant à partir de la Baseline</font></h3>"
   ]
  },
  {
   "cell_type": "markdown",
   "id": "a285f234",
   "metadata": {},
   "source": [
    "<font color=\"#337da4\"><h3>2.1 Feature Engineering</h3><a class=\"anchor\" id=\"section_2_1\"></a></font>"
   ]
  },
  {
   "cell_type": "markdown",
   "id": "471fdad3",
   "metadata": {},
   "source": [
    "Les fortes corrélations visibles sur le heatmap peuvent amener des problèmes de colinéarité dans nos futurs modèles. Isolons donc les paires de variables avec des corrélations de Pearson supérieurs à 0.7 :"
   ]
  },
  {
   "cell_type": "code",
   "execution_count": 25,
   "id": "693866b8",
   "metadata": {},
   "outputs": [
    {
     "data": {
      "text/html": [
       "<div>\n",
       "<style scoped>\n",
       "    .dataframe tbody tr th:only-of-type {\n",
       "        vertical-align: middle;\n",
       "    }\n",
       "\n",
       "    .dataframe tbody tr th {\n",
       "        vertical-align: top;\n",
       "    }\n",
       "\n",
       "    .dataframe thead th {\n",
       "        text-align: right;\n",
       "    }\n",
       "</style>\n",
       "<table border=\"1\" class=\"dataframe\">\n",
       "  <thead>\n",
       "    <tr style=\"text-align: right;\">\n",
       "      <th></th>\n",
       "      <th>level_0</th>\n",
       "      <th>level_1</th>\n",
       "      <th>corr_coeff</th>\n",
       "    </tr>\n",
       "  </thead>\n",
       "  <tbody>\n",
       "    <tr>\n",
       "      <th>20</th>\n",
       "      <td>PropertyGFATotal</td>\n",
       "      <td>PropertyGFABuilding(s)</td>\n",
       "      <td>0.981909</td>\n",
       "    </tr>\n",
       "    <tr>\n",
       "      <th>18</th>\n",
       "      <td>LargestPropertyUseTypeGFA</td>\n",
       "      <td>PropertyGFABuilding(s)</td>\n",
       "      <td>0.944381</td>\n",
       "    </tr>\n",
       "    <tr>\n",
       "      <th>16</th>\n",
       "      <td>PropertyGFATotal</td>\n",
       "      <td>LargestPropertyUseTypeGFA</td>\n",
       "      <td>0.939528</td>\n",
       "    </tr>\n",
       "    <tr>\n",
       "      <th>14</th>\n",
       "      <td>TotalGHGEmissions</td>\n",
       "      <td>SiteEnergyUse(kBtu)</td>\n",
       "      <td>0.888347</td>\n",
       "    </tr>\n",
       "    <tr>\n",
       "      <th>12</th>\n",
       "      <td>SecondLargestPropertyUseTypeGFA</td>\n",
       "      <td>PropertyGFATotal</td>\n",
       "      <td>0.789700</td>\n",
       "    </tr>\n",
       "    <tr>\n",
       "      <th>10</th>\n",
       "      <td>PropertyGFABuilding(s)</td>\n",
       "      <td>SecondLargestPropertyUseTypeGFA</td>\n",
       "      <td>0.767589</td>\n",
       "    </tr>\n",
       "    <tr>\n",
       "      <th>8</th>\n",
       "      <td>LargestPropertyUseTypeGFA</td>\n",
       "      <td>SecondLargestPropertyUseTypeGFA</td>\n",
       "      <td>0.759597</td>\n",
       "    </tr>\n",
       "    <tr>\n",
       "      <th>6</th>\n",
       "      <td>Electricity(kBtu)</td>\n",
       "      <td>LargestPropertyUseTypeGFA</td>\n",
       "      <td>0.738284</td>\n",
       "    </tr>\n",
       "    <tr>\n",
       "      <th>4</th>\n",
       "      <td>Electricity(kBtu)</td>\n",
       "      <td>PropertyGFABuilding(s)</td>\n",
       "      <td>0.731842</td>\n",
       "    </tr>\n",
       "    <tr>\n",
       "      <th>2</th>\n",
       "      <td>PropertyGFATotal</td>\n",
       "      <td>Electricity(kBtu)</td>\n",
       "      <td>0.713780</td>\n",
       "    </tr>\n",
       "    <tr>\n",
       "      <th>0</th>\n",
       "      <td>PropertyGFATotal</td>\n",
       "      <td>NumberofFloors</td>\n",
       "      <td>0.703310</td>\n",
       "    </tr>\n",
       "  </tbody>\n",
       "</table>\n",
       "</div>"
      ],
      "text/plain": [
       "                            level_0                          level_1  \\\n",
       "20                 PropertyGFATotal           PropertyGFABuilding(s)   \n",
       "18        LargestPropertyUseTypeGFA           PropertyGFABuilding(s)   \n",
       "16                 PropertyGFATotal        LargestPropertyUseTypeGFA   \n",
       "14                TotalGHGEmissions              SiteEnergyUse(kBtu)   \n",
       "12  SecondLargestPropertyUseTypeGFA                 PropertyGFATotal   \n",
       "10           PropertyGFABuilding(s)  SecondLargestPropertyUseTypeGFA   \n",
       "8         LargestPropertyUseTypeGFA  SecondLargestPropertyUseTypeGFA   \n",
       "6                 Electricity(kBtu)        LargestPropertyUseTypeGFA   \n",
       "4                 Electricity(kBtu)           PropertyGFABuilding(s)   \n",
       "2                  PropertyGFATotal                Electricity(kBtu)   \n",
       "0                  PropertyGFATotal                   NumberofFloors   \n",
       "\n",
       "    corr_coeff  \n",
       "20    0.981909  \n",
       "18    0.944381  \n",
       "16    0.939528  \n",
       "14    0.888347  \n",
       "12    0.789700  \n",
       "10    0.767589  \n",
       "8     0.759597  \n",
       "6     0.738284  \n",
       "4     0.731842  \n",
       "2     0.713780  \n",
       "0     0.703310  "
      ]
     },
     "execution_count": 25,
     "metadata": {},
     "output_type": "execute_result"
    }
   ],
   "source": [
    "corr = data.corr()\n",
    "\n",
    "threshold = 0.7\n",
    "corr_pairs = corr.unstack().sort_values(kind=\"quicksort\")\n",
    "strong_corr = (pd.DataFrame(corr_pairs[(abs(corr_pairs) > threshold)])\n",
    "               .reset_index().rename(columns={0:'corr_coeff'}))\n",
    "strong_corr = strong_corr[(strong_corr.index%2 == 0) & (strong_corr['level_0'] != strong_corr['level_1'])]\n",
    "strong_corr.sort_values('corr_coeff', ascending=False)"
   ]
  },
  {
   "cell_type": "markdown",
   "id": "65ef7f59",
   "metadata": {},
   "source": [
    "On remarque que les variables suffixées GFA présentent de fortes corrélations avec plusieurs autres variables. De même pour les variables relatives aux types d'énergie utilisés, qui de surcroît ne doivent pas être utilisées puisqu'elles concernent les données de relevés coûteuses qu'on souhaiterait écarter. Grâce au feature engineering, nous allons donc créer de nouvelles variables à partir de ces dernières pour tenter de gommer ces corrélations linéaires.\n",
    "\n",
    "\n",
    "#### Variables ratio usage \n",
    "\n",
    "- RatioLargestUseGFA = 'LargestPropertyUseTypeGFA' / 'PropertyGFATotal'\n",
    "- RatioSecondUseGFA = 'SecondLargestPropertyUseTypeGFA' / 'PropertyGFATotal'\n",
    "- RatioThirdUseGFA = 'ThirdLargestPropertyUseTypeGFA' / 'PropertyGFATotal'\n",
    "\n",
    "Pour les variables relatives aux types d'énergies, on essayer de déduire des informations de nos données pour créer de nouvelles variables ayant une certaine force de prédiction, tout en supprimant les informations de relevés coûteuses. \n",
    "\n",
    "\n",
    "#### Variables ratio énergie \n",
    "\n",
    "- df['elec_prop'] = df['Electricity(kBtu)'] / df['SiteEnergyUse(kBtu)']\n",
    "- df['steam_prop'] = df['SteamUse(kBtu)'] / df['SiteEnergyUse(kBtu)']\n",
    "- df['natgas_prop'] = df['NaturalGas(kBtu)'] / df['SiteEnergyUse(kBtu)']\n",
    "\n",
    "\n",
    "#### Variables booléennes nature des énergies utilisées\n",
    "\n",
    "- df['elec_bool'] = (df['elec_prop'] > 0)\n",
    "- df['steam_bool'] = (df['steam_prop'] > 0)\n",
    "- df['natgas_bool'] = (df['natgas_prop'] > 0)"
   ]
  },
  {
   "cell_type": "code",
   "execution_count": 26,
   "id": "7b1c7003",
   "metadata": {},
   "outputs": [],
   "source": [
    "data['RatioLargestUseGFA'] = data['LargestPropertyUseTypeGFA'] / data['PropertyGFATotal']\n",
    "data['RatioSecondUseGFA'] = data['SecondLargestPropertyUseTypeGFA'] / data['PropertyGFATotal']\n",
    "data['RatioThirdUseGFA'] = data['ThirdLargestPropertyUseTypeGFA'] / data['PropertyGFATotal']"
   ]
  },
  {
   "cell_type": "markdown",
   "id": "24db458b",
   "metadata": {},
   "source": [
    "Supprimons ces variables."
   ]
  },
  {
   "cell_type": "code",
   "execution_count": 27,
   "id": "ae5618c3",
   "metadata": {},
   "outputs": [
    {
     "data": {
      "text/plain": [
       "Index(['BuildingType', 'PrimaryPropertyType', 'CouncilDistrictCode',\n",
       "       'Neighborhood', 'NumberofBuildings', 'NumberofFloors',\n",
       "       'PropertyGFATotal', 'PropertyGFAParking', 'PropertyGFABuilding(s)',\n",
       "       'LargestPropertyUseType', 'LargestPropertyUseTypeGFA',\n",
       "       'SecondLargestPropertyUseType', 'SecondLargestPropertyUseTypeGFA',\n",
       "       'ThirdLargestPropertyUseType', 'ThirdLargestPropertyUseTypeGFA',\n",
       "       'ENERGYSTARScore', 'SiteEnergyUse(kBtu)', 'SteamUse(kBtu)',\n",
       "       'Electricity(kBtu)', 'NaturalGas(kBtu)', 'TotalGHGEmissions',\n",
       "       'Latitude', 'Longitude', 'BuildingAge', 'RatioLargestUseGFA',\n",
       "       'RatioSecondUseGFA', 'RatioThirdUseGFA'],\n",
       "      dtype='object')"
      ]
     },
     "execution_count": 27,
     "metadata": {},
     "output_type": "execute_result"
    }
   ],
   "source": [
    "data.columns"
   ]
  },
  {
   "cell_type": "code",
   "execution_count": 28,
   "id": "931bb2c6",
   "metadata": {},
   "outputs": [],
   "source": [
    "data = data.drop(['LargestPropertyUseTypeGFA',\n",
    "                  'SecondLargestPropertyUseTypeGFA',\n",
    "                  'ThirdLargestPropertyUseTypeGFA',\n",
    "                  'PropertyGFATotal'], axis=1)"
   ]
  },
  {
   "cell_type": "code",
   "execution_count": 29,
   "id": "4be0f659",
   "metadata": {},
   "outputs": [],
   "source": [
    "data['elec_prop'] = data['Electricity(kBtu)'] / data['SiteEnergyUse(kBtu)']\n",
    "data['steam_prop'] = data['SteamUse(kBtu)'] / data['SiteEnergyUse(kBtu)']\n",
    "data['natgas_prop'] = data['NaturalGas(kBtu)'] / data['SiteEnergyUse(kBtu)']"
   ]
  },
  {
   "cell_type": "code",
   "execution_count": 30,
   "id": "16999202",
   "metadata": {},
   "outputs": [],
   "source": [
    "data['elec_bool'] = (data['elec_prop'] > 0)\n",
    "data['steam_bool'] = (data['steam_prop'] > 0)\n",
    "data['natgas_bool'] = (data['natgas_prop'] > 0)"
   ]
  },
  {
   "cell_type": "markdown",
   "id": "99d33af5",
   "metadata": {},
   "source": [
    "Supprimons maintenant les variables relatives aux relevés."
   ]
  },
  {
   "cell_type": "code",
   "execution_count": 31,
   "id": "8487157c",
   "metadata": {},
   "outputs": [],
   "source": [
    "data = data.drop(['SteamUse(kBtu)','Electricity(kBtu)', 'NaturalGas(kBtu)'], axis=1)"
   ]
  },
  {
   "cell_type": "code",
   "execution_count": 32,
   "id": "a77ab443",
   "metadata": {},
   "outputs": [
    {
     "data": {
      "text/html": [
       "<div>\n",
       "<style scoped>\n",
       "    .dataframe tbody tr th:only-of-type {\n",
       "        vertical-align: middle;\n",
       "    }\n",
       "\n",
       "    .dataframe tbody tr th {\n",
       "        vertical-align: top;\n",
       "    }\n",
       "\n",
       "    .dataframe thead th {\n",
       "        text-align: right;\n",
       "    }\n",
       "</style>\n",
       "<table border=\"1\" class=\"dataframe\">\n",
       "  <thead>\n",
       "    <tr style=\"text-align: right;\">\n",
       "      <th></th>\n",
       "      <th>level_0</th>\n",
       "      <th>level_1</th>\n",
       "      <th>corr_coeff</th>\n",
       "    </tr>\n",
       "  </thead>\n",
       "  <tbody>\n",
       "    <tr>\n",
       "      <th>2</th>\n",
       "      <td>SiteEnergyUse(kBtu)</td>\n",
       "      <td>TotalGHGEmissions</td>\n",
       "      <td>0.888347</td>\n",
       "    </tr>\n",
       "    <tr>\n",
       "      <th>0</th>\n",
       "      <td>PropertyGFABuilding(s)</td>\n",
       "      <td>elec_prop</td>\n",
       "      <td>0.750020</td>\n",
       "    </tr>\n",
       "  </tbody>\n",
       "</table>\n",
       "</div>"
      ],
      "text/plain": [
       "                  level_0            level_1  corr_coeff\n",
       "2     SiteEnergyUse(kBtu)  TotalGHGEmissions    0.888347\n",
       "0  PropertyGFABuilding(s)          elec_prop    0.750020"
      ]
     },
     "execution_count": 32,
     "metadata": {},
     "output_type": "execute_result"
    }
   ],
   "source": [
    "corr = data.corr()\n",
    "\n",
    "threshold = 0.7\n",
    "corr_pairs = corr.unstack().sort_values(kind=\"quicksort\")\n",
    "strong_corr = (pd.DataFrame(corr_pairs[(abs(corr_pairs) > threshold)])\n",
    "               .reset_index().rename(columns={0:'corr_coeff'}))\n",
    "strong_corr = strong_corr[(strong_corr.index%2 == 0) & (strong_corr['level_0'] != strong_corr['level_1'])]\n",
    "strong_corr.sort_values('corr_coeff', ascending=False)"
   ]
  },
  {
   "cell_type": "markdown",
   "id": "68c1c679",
   "metadata": {},
   "source": [
    "Cela semble nettement mieux. Jetons désormais un oeil aux performances des modèles sur ces données."
   ]
  },
  {
   "cell_type": "code",
   "execution_count": 33,
   "id": "eb3435c2",
   "metadata": {},
   "outputs": [],
   "source": [
    "train_set, val_set = train_test_split(data, test_size=0.20)\n",
    "\n",
    "y_train_emissions, y_val_emissions = (train_set['TotalGHGEmissions'],\n",
    "                                val_set['TotalGHGEmissions']\n",
    "                                )\n",
    "\n",
    "y_train_energy, y_val_energy = (train_set['SiteEnergyUse(kBtu)'],\n",
    "                                val_set['SiteEnergyUse(kBtu)']\n",
    "                                )\n",
    "\n",
    "X_train, X_val = (train_set.drop(['TotalGHGEmissions', 'SiteEnergyUse(kBtu)'], axis=1),\n",
    "                  val_set.drop(['TotalGHGEmissions', 'SiteEnergyUse(kBtu)'], axis=1)\n",
    "                 )"
   ]
  },
  {
   "cell_type": "code",
   "execution_count": 34,
   "id": "ee14af33",
   "metadata": {},
   "outputs": [
    {
     "data": {
      "text/plain": [
       "Index(['BuildingType', 'PrimaryPropertyType', 'CouncilDistrictCode',\n",
       "       'Neighborhood', 'NumberofBuildings', 'NumberofFloors',\n",
       "       'PropertyGFAParking', 'PropertyGFABuilding(s)',\n",
       "       'LargestPropertyUseType', 'SecondLargestPropertyUseType',\n",
       "       'ThirdLargestPropertyUseType', 'ENERGYSTARScore', 'Latitude',\n",
       "       'Longitude', 'BuildingAge', 'RatioLargestUseGFA', 'RatioSecondUseGFA',\n",
       "       'RatioThirdUseGFA', 'elec_prop', 'steam_prop', 'natgas_prop',\n",
       "       'elec_bool', 'steam_bool', 'natgas_bool'],\n",
       "      dtype='object')"
      ]
     },
     "execution_count": 34,
     "metadata": {},
     "output_type": "execute_result"
    }
   ],
   "source": [
    "X_train.columns"
   ]
  },
  {
   "cell_type": "code",
   "execution_count": 35,
   "id": "4ccddb67",
   "metadata": {},
   "outputs": [],
   "source": [
    "numerical_features = ['CouncilDistrictCode',\n",
    "                      'NumberofBuildings',\n",
    "                      'NumberofFloors',\n",
    "                      'PropertyGFAParking',\n",
    "                      'PropertyGFABuilding(s)',\n",
    "                      'ENERGYSTARScore',\n",
    "                      'Latitude',\n",
    "                      'Longitude',\n",
    "                      'BuildingAge',\n",
    "                      'RatioLargestUseGFA',\n",
    "                      'RatioSecondUseGFA',\n",
    "                      'RatioThirdUseGFA',\n",
    "                     'elec_prop',\n",
    "                     'steam_prop',\n",
    "                      'natgas_prop',\n",
    "                      'elec_bool',\n",
    "                      'steam_bool',\n",
    "                      'natgas_bool'\n",
    "                     ]\n",
    "\n",
    "categorical_features = ['BuildingType', \n",
    "                               'PrimaryPropertyType', \n",
    "                               'Neighborhood', \n",
    "                               'LargestPropertyUseType', \n",
    "                               'SecondLargestPropertyUseType', \n",
    "                               'ThirdLargestPropertyUseType']\n",
    "\n",
    "numerical_encoder = StandardScaler()\n",
    "OneHot_encoder = OneHotEncoder(handle_unknown='ignore')\n",
    "\n",
    "transformer = make_column_transformer((numerical_encoder, numerical_features),\n",
    "                                      (OneHot_encoder, categorical_features), \n",
    "                                      remainder = 'passthrough')\n",
    "\n",
    "preprocessed_X_train = transformer.fit_transform(X_train)"
   ]
  },
  {
   "cell_type": "code",
   "execution_count": 36,
   "id": "0305667c",
   "metadata": {},
   "outputs": [
    {
     "data": {
      "text/html": [
       "<div>\n",
       "<style scoped>\n",
       "    .dataframe tbody tr th:only-of-type {\n",
       "        vertical-align: middle;\n",
       "    }\n",
       "\n",
       "    .dataframe tbody tr th {\n",
       "        vertical-align: top;\n",
       "    }\n",
       "\n",
       "    .dataframe thead th {\n",
       "        text-align: right;\n",
       "    }\n",
       "</style>\n",
       "<table border=\"1\" class=\"dataframe\">\n",
       "  <thead>\n",
       "    <tr style=\"text-align: right;\">\n",
       "      <th></th>\n",
       "      <th>model</th>\n",
       "      <th>fit_time</th>\n",
       "      <th>score_time</th>\n",
       "      <th>test_r2</th>\n",
       "      <th>test_neg_mean_absolute_error</th>\n",
       "      <th>test_neg_root_mean_squared_error</th>\n",
       "    </tr>\n",
       "  </thead>\n",
       "  <tbody>\n",
       "    <tr>\n",
       "      <th>0</th>\n",
       "      <td>Lasso</td>\n",
       "      <td>0.001420</td>\n",
       "      <td>0.000476</td>\n",
       "      <td>-0.004852</td>\n",
       "      <td>-1.189709</td>\n",
       "      <td>-1.514059</td>\n",
       "    </tr>\n",
       "    <tr>\n",
       "      <th>1</th>\n",
       "      <td>RandomForestRegressor</td>\n",
       "      <td>1.166864</td>\n",
       "      <td>0.006628</td>\n",
       "      <td>0.976640</td>\n",
       "      <td>-0.111503</td>\n",
       "      <td>-0.224509</td>\n",
       "    </tr>\n",
       "    <tr>\n",
       "      <th>2</th>\n",
       "      <td>GradientBoostingRegressor</td>\n",
       "      <td>0.215525</td>\n",
       "      <td>0.000800</td>\n",
       "      <td>0.983237</td>\n",
       "      <td>-0.113824</td>\n",
       "      <td>-0.193427</td>\n",
       "    </tr>\n",
       "    <tr>\n",
       "      <th>3</th>\n",
       "      <td>XGBRegressor</td>\n",
       "      <td>0.117957</td>\n",
       "      <td>0.001938</td>\n",
       "      <td>0.981007</td>\n",
       "      <td>-0.123138</td>\n",
       "      <td>-0.206457</td>\n",
       "    </tr>\n",
       "    <tr>\n",
       "      <th>4</th>\n",
       "      <td>LGBMRegressor</td>\n",
       "      <td>0.109362</td>\n",
       "      <td>0.001758</td>\n",
       "      <td>0.978625</td>\n",
       "      <td>-0.125236</td>\n",
       "      <td>-0.219026</td>\n",
       "    </tr>\n",
       "  </tbody>\n",
       "</table>\n",
       "</div>"
      ],
      "text/plain": [
       "                       model  fit_time  score_time   test_r2  \\\n",
       "0                      Lasso  0.001420    0.000476 -0.004852   \n",
       "1      RandomForestRegressor  1.166864    0.006628  0.976640   \n",
       "2  GradientBoostingRegressor  0.215525    0.000800  0.983237   \n",
       "3               XGBRegressor  0.117957    0.001938  0.981007   \n",
       "4              LGBMRegressor  0.109362    0.001758  0.978625   \n",
       "\n",
       "   test_neg_mean_absolute_error  test_neg_root_mean_squared_error  \n",
       "0                     -1.189709                         -1.514059  \n",
       "1                     -0.111503                         -0.224509  \n",
       "2                     -0.113824                         -0.193427  \n",
       "3                     -0.123138                         -0.206457  \n",
       "4                     -0.125236                         -0.219026  "
      ]
     },
     "metadata": {},
     "output_type": "display_data"
    }
   ],
   "source": [
    "evaluate(list_models, preprocessed_X_train, y_train_emissions)"
   ]
  },
  {
   "cell_type": "code",
   "execution_count": 37,
   "id": "63d9d635",
   "metadata": {},
   "outputs": [
    {
     "data": {
      "text/html": [
       "<div>\n",
       "<style scoped>\n",
       "    .dataframe tbody tr th:only-of-type {\n",
       "        vertical-align: middle;\n",
       "    }\n",
       "\n",
       "    .dataframe tbody tr th {\n",
       "        vertical-align: top;\n",
       "    }\n",
       "\n",
       "    .dataframe thead th {\n",
       "        text-align: right;\n",
       "    }\n",
       "</style>\n",
       "<table border=\"1\" class=\"dataframe\">\n",
       "  <thead>\n",
       "    <tr style=\"text-align: right;\">\n",
       "      <th></th>\n",
       "      <th>model</th>\n",
       "      <th>fit_time</th>\n",
       "      <th>score_time</th>\n",
       "      <th>test_r2</th>\n",
       "      <th>test_neg_mean_absolute_error</th>\n",
       "      <th>test_neg_root_mean_squared_error</th>\n",
       "    </tr>\n",
       "  </thead>\n",
       "  <tbody>\n",
       "    <tr>\n",
       "      <th>0</th>\n",
       "      <td>Lasso</td>\n",
       "      <td>0.001166</td>\n",
       "      <td>0.000400</td>\n",
       "      <td>-0.005341</td>\n",
       "      <td>-1.037844</td>\n",
       "      <td>-1.301250</td>\n",
       "    </tr>\n",
       "    <tr>\n",
       "      <th>1</th>\n",
       "      <td>RandomForestRegressor</td>\n",
       "      <td>1.156109</td>\n",
       "      <td>0.006669</td>\n",
       "      <td>0.976125</td>\n",
       "      <td>-0.071991</td>\n",
       "      <td>-0.176087</td>\n",
       "    </tr>\n",
       "    <tr>\n",
       "      <th>2</th>\n",
       "      <td>GradientBoostingRegressor</td>\n",
       "      <td>0.217353</td>\n",
       "      <td>0.000856</td>\n",
       "      <td>0.980125</td>\n",
       "      <td>-0.078496</td>\n",
       "      <td>-0.158076</td>\n",
       "    </tr>\n",
       "    <tr>\n",
       "      <th>3</th>\n",
       "      <td>XGBRegressor</td>\n",
       "      <td>0.108399</td>\n",
       "      <td>0.001748</td>\n",
       "      <td>0.973042</td>\n",
       "      <td>-0.079418</td>\n",
       "      <td>-0.186080</td>\n",
       "    </tr>\n",
       "    <tr>\n",
       "      <th>4</th>\n",
       "      <td>LGBMRegressor</td>\n",
       "      <td>0.082903</td>\n",
       "      <td>0.001169</td>\n",
       "      <td>0.977399</td>\n",
       "      <td>-0.077894</td>\n",
       "      <td>-0.174558</td>\n",
       "    </tr>\n",
       "  </tbody>\n",
       "</table>\n",
       "</div>"
      ],
      "text/plain": [
       "                       model  fit_time  score_time   test_r2  \\\n",
       "0                      Lasso  0.001166    0.000400 -0.005341   \n",
       "1      RandomForestRegressor  1.156109    0.006669  0.976125   \n",
       "2  GradientBoostingRegressor  0.217353    0.000856  0.980125   \n",
       "3               XGBRegressor  0.108399    0.001748  0.973042   \n",
       "4              LGBMRegressor  0.082903    0.001169  0.977399   \n",
       "\n",
       "   test_neg_mean_absolute_error  test_neg_root_mean_squared_error  \n",
       "0                     -1.037844                         -1.301250  \n",
       "1                     -0.071991                         -0.176087  \n",
       "2                     -0.078496                         -0.158076  \n",
       "3                     -0.079418                         -0.186080  \n",
       "4                     -0.077894                         -0.174558  "
      ]
     },
     "metadata": {},
     "output_type": "display_data"
    }
   ],
   "source": [
    "evaluate(list_models, preprocessed_X_train, y_train_energy)"
   ]
  },
  {
   "cell_type": "markdown",
   "id": "49431a93",
   "metadata": {},
   "source": [
    "Les quatre derniers modèles semblent obtenir de très bonnes performances. Néanmoins, si on zoome un peu sur les métriques, on observe que c'est le GradientBoostingRegressor qui obtient le meilleur coefficient de détermination. Il semble, en outre, faire des erreurs moins importantes que les autres modèles, surtout lorsqu'on s'intéresse à la rmse : on peut en déduire qu'il fait moins de grandes erreurs sur les prédictions de consommation d'une propriété donnée. C'est donc ce dernier que nous retiendrons."
   ]
  },
  {
   "cell_type": "markdown",
   "id": "f627a829",
   "metadata": {},
   "source": [
    "<font color=\"#337da4\"><h3>2.2 Tuning des hyperparamètres</h3><a class=\"anchor\" id=\"section_2_2\"></a></font>"
   ]
  },
  {
   "cell_type": "markdown",
   "id": "5973a4b0",
   "metadata": {},
   "source": [
    "Nous allons désormais essayer d'optimiser notre modèle en procédant au tuning des hyperparamètres à l'aide d'une CVSearchGrid."
   ]
  },
  {
   "cell_type": "markdown",
   "id": "041b91f5",
   "metadata": {},
   "source": [
    "### Pour les émissions"
   ]
  },
  {
   "cell_type": "code",
   "execution_count": 38,
   "id": "be942774",
   "metadata": {},
   "outputs": [],
   "source": [
    "from sklearn.model_selection import GridSearchCV\n",
    "\n",
    "param_grid = {'learning_rate': [0.02, 0.05, 0.1],\n",
    "               'n_estimators': [100, 500, 1000],\n",
    "               'max_depth': [3, 5, 10]\n",
    "              }"
   ]
  },
  {
   "cell_type": "code",
   "execution_count": 39,
   "id": "ad3e31c4",
   "metadata": {},
   "outputs": [
    {
     "name": "stdout",
     "output_type": "stream",
     "text": [
      "Fitting 5 folds for each of 27 candidates, totalling 135 fits\n"
     ]
    },
    {
     "data": {
      "text/plain": [
       "GridSearchCV(estimator=GradientBoostingRegressor(),\n",
       "             param_grid={'learning_rate': [0.02, 0.05, 0.1],\n",
       "                         'max_depth': [3, 5, 10],\n",
       "                         'n_estimators': [100, 500, 1000]},\n",
       "             verbose=1)"
      ]
     },
     "execution_count": 39,
     "metadata": {},
     "output_type": "execute_result"
    }
   ],
   "source": [
    "grid_emissions = GridSearchCV(GradientBoostingRegressor(), param_grid, verbose=1)\n",
    "\n",
    "grid_emissions.fit(preprocessed_X_train, y_train_emissions)"
   ]
  },
  {
   "cell_type": "markdown",
   "id": "c527ebd6",
   "metadata": {},
   "source": [
    "Jetons un oeil aux meilleurs paramètres, et aux performances de ce modèle"
   ]
  },
  {
   "cell_type": "code",
   "execution_count": 40,
   "id": "7807051e",
   "metadata": {},
   "outputs": [
    {
     "data": {
      "text/plain": [
       "{'learning_rate': 0.05, 'max_depth': 3, 'n_estimators': 1000}"
      ]
     },
     "execution_count": 40,
     "metadata": {},
     "output_type": "execute_result"
    }
   ],
   "source": [
    "grid_emissions.best_params_"
   ]
  },
  {
   "cell_type": "code",
   "execution_count": 41,
   "id": "2af8416e",
   "metadata": {},
   "outputs": [
    {
     "data": {
      "text/html": [
       "<div>\n",
       "<style scoped>\n",
       "    .dataframe tbody tr th:only-of-type {\n",
       "        vertical-align: middle;\n",
       "    }\n",
       "\n",
       "    .dataframe tbody tr th {\n",
       "        vertical-align: top;\n",
       "    }\n",
       "\n",
       "    .dataframe thead th {\n",
       "        text-align: right;\n",
       "    }\n",
       "</style>\n",
       "<table border=\"1\" class=\"dataframe\">\n",
       "  <thead>\n",
       "    <tr style=\"text-align: right;\">\n",
       "      <th></th>\n",
       "      <th>model</th>\n",
       "      <th>fit_time</th>\n",
       "      <th>score_time</th>\n",
       "      <th>test_r2</th>\n",
       "      <th>test_neg_mean_absolute_error</th>\n",
       "      <th>test_neg_root_mean_squared_error</th>\n",
       "    </tr>\n",
       "  </thead>\n",
       "  <tbody>\n",
       "    <tr>\n",
       "      <th>0</th>\n",
       "      <td>GradientBoostingRegressor</td>\n",
       "      <td>2.059488</td>\n",
       "      <td>0.005012</td>\n",
       "      <td>0.984971</td>\n",
       "      <td>-0.104561</td>\n",
       "      <td>-0.183349</td>\n",
       "    </tr>\n",
       "  </tbody>\n",
       "</table>\n",
       "</div>"
      ],
      "text/plain": [
       "                       model  fit_time  score_time   test_r2  \\\n",
       "0  GradientBoostingRegressor  2.059488    0.005012  0.984971   \n",
       "\n",
       "   test_neg_mean_absolute_error  test_neg_root_mean_squared_error  \n",
       "0                     -0.104561                         -0.183349  "
      ]
     },
     "metadata": {},
     "output_type": "display_data"
    }
   ],
   "source": [
    "evaluate([grid_emissions.best_estimator_], preprocessed_X_train, y_train_emissions)"
   ]
  },
  {
   "cell_type": "markdown",
   "id": "576dc91d",
   "metadata": {},
   "source": [
    "On enregistre le modèle final."
   ]
  },
  {
   "cell_type": "code",
   "execution_count": 42,
   "id": "bb935923",
   "metadata": {},
   "outputs": [],
   "source": [
    "final_model_emissions = grid_emissions.best_estimator_"
   ]
  },
  {
   "cell_type": "markdown",
   "id": "c0d607a1",
   "metadata": {},
   "source": [
    "### Pour la consommation d'énergie"
   ]
  },
  {
   "cell_type": "markdown",
   "id": "bb711daf",
   "metadata": {},
   "source": [
    "On fait la même chose pour le deuxième modèle, qui concerne la consommation d'énergie"
   ]
  },
  {
   "cell_type": "code",
   "execution_count": 43,
   "id": "d06b3e87",
   "metadata": {},
   "outputs": [
    {
     "name": "stdout",
     "output_type": "stream",
     "text": [
      "Fitting 5 folds for each of 27 candidates, totalling 135 fits\n"
     ]
    },
    {
     "data": {
      "text/plain": [
       "GridSearchCV(estimator=GradientBoostingRegressor(),\n",
       "             param_grid={'learning_rate': [0.02, 0.05, 0.1],\n",
       "                         'max_depth': [3, 5, 10],\n",
       "                         'n_estimators': [100, 500, 1000]},\n",
       "             verbose=1)"
      ]
     },
     "execution_count": 43,
     "metadata": {},
     "output_type": "execute_result"
    }
   ],
   "source": [
    "grid_energy = GridSearchCV(GradientBoostingRegressor(), param_grid, verbose=1)\n",
    "\n",
    "grid_energy.fit(preprocessed_X_train, y_train_energy)"
   ]
  },
  {
   "cell_type": "code",
   "execution_count": 44,
   "id": "51917249",
   "metadata": {},
   "outputs": [
    {
     "data": {
      "text/plain": [
       "{'learning_rate': 0.1, 'max_depth': 3, 'n_estimators': 1000}"
      ]
     },
     "execution_count": 44,
     "metadata": {},
     "output_type": "execute_result"
    }
   ],
   "source": [
    "grid_energy.best_params_"
   ]
  },
  {
   "cell_type": "code",
   "execution_count": 45,
   "id": "bb6b78d5",
   "metadata": {},
   "outputs": [
    {
     "data": {
      "text/html": [
       "<div>\n",
       "<style scoped>\n",
       "    .dataframe tbody tr th:only-of-type {\n",
       "        vertical-align: middle;\n",
       "    }\n",
       "\n",
       "    .dataframe tbody tr th {\n",
       "        vertical-align: top;\n",
       "    }\n",
       "\n",
       "    .dataframe thead th {\n",
       "        text-align: right;\n",
       "    }\n",
       "</style>\n",
       "<table border=\"1\" class=\"dataframe\">\n",
       "  <thead>\n",
       "    <tr style=\"text-align: right;\">\n",
       "      <th></th>\n",
       "      <th>model</th>\n",
       "      <th>fit_time</th>\n",
       "      <th>score_time</th>\n",
       "      <th>test_r2</th>\n",
       "      <th>test_neg_mean_absolute_error</th>\n",
       "      <th>test_neg_root_mean_squared_error</th>\n",
       "    </tr>\n",
       "  </thead>\n",
       "  <tbody>\n",
       "    <tr>\n",
       "      <th>0</th>\n",
       "      <td>GradientBoostingRegressor</td>\n",
       "      <td>2.069226</td>\n",
       "      <td>0.004981</td>\n",
       "      <td>0.982468</td>\n",
       "      <td>-0.065658</td>\n",
       "      <td>-0.14516</td>\n",
       "    </tr>\n",
       "  </tbody>\n",
       "</table>\n",
       "</div>"
      ],
      "text/plain": [
       "                       model  fit_time  score_time   test_r2  \\\n",
       "0  GradientBoostingRegressor  2.069226    0.004981  0.982468   \n",
       "\n",
       "   test_neg_mean_absolute_error  test_neg_root_mean_squared_error  \n",
       "0                     -0.065658                          -0.14516  "
      ]
     },
     "metadata": {},
     "output_type": "display_data"
    }
   ],
   "source": [
    "evaluate([grid_energy.best_estimator_], preprocessed_X_train, y_train_energy)"
   ]
  },
  {
   "cell_type": "code",
   "execution_count": 46,
   "id": "2746c196",
   "metadata": {},
   "outputs": [],
   "source": [
    "final_model_energy = grid_energy.best_estimator_"
   ]
  },
  {
   "cell_type": "markdown",
   "id": "a182fa05",
   "metadata": {},
   "source": [
    "<font color=\"#337da4\"><h3>2.3 Performances des modèles finaux</h3><a class=\"anchor\" id=\"section_2_3\"></a></font>"
   ]
  },
  {
   "cell_type": "markdown",
   "id": "09cb07b9",
   "metadata": {},
   "source": [
    "On va maintenant évaluer les performances de nos deux modèles finaux sur le set de validation, et examiner les learning curves de ces modèles."
   ]
  },
  {
   "cell_type": "code",
   "execution_count": 47,
   "id": "5785dcb8",
   "metadata": {},
   "outputs": [],
   "source": [
    "preprocessed_X_val = transformer.transform(X_val)"
   ]
  },
  {
   "cell_type": "code",
   "execution_count": 48,
   "id": "f4ee95df",
   "metadata": {},
   "outputs": [
    {
     "data": {
      "text/plain": [
       "(288, 143)"
      ]
     },
     "execution_count": 48,
     "metadata": {},
     "output_type": "execute_result"
    }
   ],
   "source": [
    "preprocessed_X_val.shape"
   ]
  },
  {
   "cell_type": "code",
   "execution_count": 49,
   "id": "234d6ebe",
   "metadata": {},
   "outputs": [
    {
     "data": {
      "text/plain": [
       "(1150, 143)"
      ]
     },
     "execution_count": 49,
     "metadata": {},
     "output_type": "execute_result"
    }
   ],
   "source": [
    "preprocessed_X_train.shape"
   ]
  },
  {
   "cell_type": "markdown",
   "id": "c94052b8",
   "metadata": {},
   "source": [
    "### Pour les émissions"
   ]
  },
  {
   "cell_type": "code",
   "execution_count": 50,
   "id": "3a89a258",
   "metadata": {},
   "outputs": [
    {
     "data": {
      "text/html": [
       "<div>\n",
       "<style scoped>\n",
       "    .dataframe tbody tr th:only-of-type {\n",
       "        vertical-align: middle;\n",
       "    }\n",
       "\n",
       "    .dataframe tbody tr th {\n",
       "        vertical-align: top;\n",
       "    }\n",
       "\n",
       "    .dataframe thead th {\n",
       "        text-align: right;\n",
       "    }\n",
       "</style>\n",
       "<table border=\"1\" class=\"dataframe\">\n",
       "  <thead>\n",
       "    <tr style=\"text-align: right;\">\n",
       "      <th></th>\n",
       "      <th>model</th>\n",
       "      <th>fit_time</th>\n",
       "      <th>score_time</th>\n",
       "      <th>test_r2</th>\n",
       "      <th>test_neg_mean_absolute_error</th>\n",
       "      <th>test_neg_root_mean_squared_error</th>\n",
       "    </tr>\n",
       "  </thead>\n",
       "  <tbody>\n",
       "    <tr>\n",
       "      <th>0</th>\n",
       "      <td>GradientBoostingRegressor</td>\n",
       "      <td>0.581666</td>\n",
       "      <td>0.001823</td>\n",
       "      <td>0.97046</td>\n",
       "      <td>-0.171758</td>\n",
       "      <td>-0.265511</td>\n",
       "    </tr>\n",
       "  </tbody>\n",
       "</table>\n",
       "</div>"
      ],
      "text/plain": [
       "                       model  fit_time  score_time  test_r2  \\\n",
       "0  GradientBoostingRegressor  0.581666    0.001823  0.97046   \n",
       "\n",
       "   test_neg_mean_absolute_error  test_neg_root_mean_squared_error  \n",
       "0                     -0.171758                         -0.265511  "
      ]
     },
     "metadata": {},
     "output_type": "display_data"
    }
   ],
   "source": [
    "evaluate([final_model_emissions], preprocessed_X_val, y_val_emissions)"
   ]
  },
  {
   "cell_type": "markdown",
   "id": "c42fbef8",
   "metadata": {},
   "source": [
    "On obtient une très bonne moyenne de 97% de coefficient de détermination sur 5 cross validaiton."
   ]
  },
  {
   "cell_type": "markdown",
   "id": "79cb335b",
   "metadata": {},
   "source": [
    "Comparons les courbes de distribution des prédictions et celle des vrais valeurs."
   ]
  },
  {
   "cell_type": "code",
   "execution_count": 51,
   "id": "97d7c374",
   "metadata": {},
   "outputs": [],
   "source": [
    "pred_emissions = final_model_emissions.predict(preprocessed_X_val)"
   ]
  },
  {
   "cell_type": "code",
   "execution_count": 52,
   "id": "998ef310",
   "metadata": {},
   "outputs": [
    {
     "name": "stderr",
     "output_type": "stream",
     "text": [
      "/Users/leodray/opt/anaconda3/lib/python3.8/site-packages/seaborn/distributions.py:2619: FutureWarning: `distplot` is a deprecated function and will be removed in a future version. Please adapt your code to use either `displot` (a figure-level function with similar flexibility) or `kdeplot` (an axes-level function for kernel density plots).\n",
      "  warnings.warn(msg, FutureWarning)\n",
      "/Users/leodray/opt/anaconda3/lib/python3.8/site-packages/seaborn/distributions.py:2103: FutureWarning: The `axis` variable is no longer used and will be removed. Instead, assign variables directly to `x` or `y`.\n",
      "  warnings.warn(msg, FutureWarning)\n",
      "/Users/leodray/opt/anaconda3/lib/python3.8/site-packages/seaborn/distributions.py:2619: FutureWarning: `distplot` is a deprecated function and will be removed in a future version. Please adapt your code to use either `displot` (a figure-level function with similar flexibility) or `kdeplot` (an axes-level function for kernel density plots).\n",
      "  warnings.warn(msg, FutureWarning)\n",
      "/Users/leodray/opt/anaconda3/lib/python3.8/site-packages/seaborn/distributions.py:2103: FutureWarning: The `axis` variable is no longer used and will be removed. Instead, assign variables directly to `x` or `y`.\n",
      "  warnings.warn(msg, FutureWarning)\n"
     ]
    },
    {
     "data": {
      "text/plain": [
       "<AxesSubplot:xlabel='TotalGHGEmissions', ylabel='Density'>"
      ]
     },
     "execution_count": 52,
     "metadata": {},
     "output_type": "execute_result"
    },
    {
     "data": {
      "image/png": "[encoded data removed]",
      "text/plain": [
       "<Figure size 1152x720 with 1 Axes>"
      ]
     },
     "metadata": {
      "needs_background": "light"
     },
     "output_type": "display_data"
    }
   ],
   "source": [
    "fig = plt.figure(figsize=(16,10))\n",
    "\n",
    "sns.distplot(pred_emissions, hist=False, rug=True)\n",
    "sns.distplot(y_val_emissions, hist=False, rug=True)"
   ]
  },
  {
   "cell_type": "markdown",
   "id": "04d20a16",
   "metadata": {},
   "source": [
    "Enfin, examinons les learning curves du modèle, pour déterminer s'il pourrait être amélioré en fournissant davantage de données - il faut garder à l'esprit qu'il est entraîné sur relativement peu d'exemples. "
   ]
  },
  {
   "cell_type": "code",
   "execution_count": 53,
   "id": "7a06367d",
   "metadata": {},
   "outputs": [],
   "source": [
    "from yellowbrick.model_selection import LearningCurve"
   ]
  },
  {
   "cell_type": "code",
   "execution_count": 54,
   "id": "2f45c654",
   "metadata": {},
   "outputs": [],
   "source": [
    "sizes = np.linspace(0.3, 1.0, 10)"
   ]
  },
  {
   "cell_type": "code",
   "execution_count": 55,
   "id": "e3702739",
   "metadata": {},
   "outputs": [
    {
     "data": {
      "image/png": "[encoded data removed]",
      "text/plain": [
       "<Figure size 576x396 with 1 Axes>"
      ]
     },
     "metadata": {},
     "output_type": "display_data"
    },
    {
     "data": {
      "text/plain": [
       "<AxesSubplot:title={'center':'Learning Curve for GradientBoostingRegressor'}, xlabel='Training Instances', ylabel='Score'>"
      ]
     },
     "execution_count": 55,
     "metadata": {},
     "output_type": "execute_result"
    }
   ],
   "source": [
    "visualizer_emissions = LearningCurve(\n",
    "    final_model_emissions, cv=5, train_sizes=sizes, n_jobs=4\n",
    ")\n",
    "\n",
    "visualizer_emissions.fit(preprocessed_X_train, y_train_emissions)\n",
    "visualizer_emissions.show()"
   ]
  },
  {
   "cell_type": "markdown",
   "id": "5fe02cf8",
   "metadata": {},
   "source": [
    "### Pour la consommation d'énergie"
   ]
  },
  {
   "cell_type": "code",
   "execution_count": 56,
   "id": "6e5ae892",
   "metadata": {},
   "outputs": [
    {
     "data": {
      "text/html": [
       "<div>\n",
       "<style scoped>\n",
       "    .dataframe tbody tr th:only-of-type {\n",
       "        vertical-align: middle;\n",
       "    }\n",
       "\n",
       "    .dataframe tbody tr th {\n",
       "        vertical-align: top;\n",
       "    }\n",
       "\n",
       "    .dataframe thead th {\n",
       "        text-align: right;\n",
       "    }\n",
       "</style>\n",
       "<table border=\"1\" class=\"dataframe\">\n",
       "  <thead>\n",
       "    <tr style=\"text-align: right;\">\n",
       "      <th></th>\n",
       "      <th>model</th>\n",
       "      <th>fit_time</th>\n",
       "      <th>score_time</th>\n",
       "      <th>test_r2</th>\n",
       "      <th>test_neg_mean_absolute_error</th>\n",
       "      <th>test_neg_root_mean_squared_error</th>\n",
       "    </tr>\n",
       "  </thead>\n",
       "  <tbody>\n",
       "    <tr>\n",
       "      <th>0</th>\n",
       "      <td>GradientBoostingRegressor</td>\n",
       "      <td>0.599683</td>\n",
       "      <td>0.001903</td>\n",
       "      <td>0.978155</td>\n",
       "      <td>-0.114446</td>\n",
       "      <td>-0.192083</td>\n",
       "    </tr>\n",
       "  </tbody>\n",
       "</table>\n",
       "</div>"
      ],
      "text/plain": [
       "                       model  fit_time  score_time   test_r2  \\\n",
       "0  GradientBoostingRegressor  0.599683    0.001903  0.978155   \n",
       "\n",
       "   test_neg_mean_absolute_error  test_neg_root_mean_squared_error  \n",
       "0                     -0.114446                         -0.192083  "
      ]
     },
     "metadata": {},
     "output_type": "display_data"
    }
   ],
   "source": [
    "evaluate([final_model_energy], preprocessed_X_val, y_val_energy)"
   ]
  },
  {
   "cell_type": "code",
   "execution_count": 57,
   "id": "99497236",
   "metadata": {},
   "outputs": [],
   "source": [
    "pred_energy = final_model_energy.predict(preprocessed_X_val)"
   ]
  },
  {
   "cell_type": "code",
   "execution_count": 58,
   "id": "c9311720",
   "metadata": {},
   "outputs": [
    {
     "name": "stderr",
     "output_type": "stream",
     "text": [
      "/Users/leodray/opt/anaconda3/lib/python3.8/site-packages/seaborn/distributions.py:2619: FutureWarning: `distplot` is a deprecated function and will be removed in a future version. Please adapt your code to use either `displot` (a figure-level function with similar flexibility) or `kdeplot` (an axes-level function for kernel density plots).\n",
      "  warnings.warn(msg, FutureWarning)\n",
      "/Users/leodray/opt/anaconda3/lib/python3.8/site-packages/seaborn/distributions.py:2103: FutureWarning: The `axis` variable is no longer used and will be removed. Instead, assign variables directly to `x` or `y`.\n",
      "  warnings.warn(msg, FutureWarning)\n",
      "/Users/leodray/opt/anaconda3/lib/python3.8/site-packages/seaborn/distributions.py:2619: FutureWarning: `distplot` is a deprecated function and will be removed in a future version. Please adapt your code to use either `displot` (a figure-level function with similar flexibility) or `kdeplot` (an axes-level function for kernel density plots).\n",
      "  warnings.warn(msg, FutureWarning)\n",
      "/Users/leodray/opt/anaconda3/lib/python3.8/site-packages/seaborn/distributions.py:2103: FutureWarning: The `axis` variable is no longer used and will be removed. Instead, assign variables directly to `x` or `y`.\n",
      "  warnings.warn(msg, FutureWarning)\n"
     ]
    },
    {
     "data": {
      "text/plain": [
       "<AxesSubplot:xlabel='SiteEnergyUse(kBtu)', ylabel='Density'>"
      ]
     },
     "execution_count": 58,
     "metadata": {},
     "output_type": "execute_result"
    },
    {
     "data": {
      "image/png": "[encoded data removed]",
      "text/plain": [
       "<Figure size 1152x720 with 1 Axes>"
      ]
     },
     "metadata": {},
     "output_type": "display_data"
    }
   ],
   "source": [
    "fig = plt.figure(figsize=(16,10))\n",
    "\n",
    "sns.distplot(pred_energy, hist=False, rug=True)\n",
    "sns.distplot(y_val_energy, hist=False, rug=True)"
   ]
  },
  {
   "cell_type": "code",
   "execution_count": 59,
   "id": "129011f0",
   "metadata": {},
   "outputs": [
    {
     "data": {
      "image/png": "[encoded data removed]",
      "text/plain": [
       "<Figure size 576x396 with 1 Axes>"
      ]
     },
     "metadata": {},
     "output_type": "display_data"
    },
    {
     "data": {
      "text/plain": [
       "<AxesSubplot:title={'center':'Learning Curve for GradientBoostingRegressor'}, xlabel='Training Instances', ylabel='Score'>"
      ]
     },
     "execution_count": 59,
     "metadata": {},
     "output_type": "execute_result"
    }
   ],
   "source": [
    "visualizer_energy = LearningCurve(\n",
    "    final_model_energy, cv=5, train_sizes=sizes, n_jobs=4\n",
    ")\n",
    "\n",
    "visualizer_energy.fit(preprocessed_X_train, y_train_emissions)\n",
    "visualizer_energy.show()"
   ]
  },
  {
   "cell_type": "markdown",
   "id": "d0be507f",
   "metadata": {},
   "source": [
    "<font color=\"#337da4\"><h3>2.4 Feature importance : l'intérêt de l'ENERGYSTARScore</h3><a class=\"anchor\" id=\"section_2_4\"></a></font>"
   ]
  },
  {
   "cell_type": "markdown",
   "id": "239edd22",
   "metadata": {},
   "source": [
    "Enfin, il nous était également demandé d'évaluer l’intérêt de l'ENERGY STAR Score pour la prédiction d’émissions, qui est fastidieux à calculer avec l’approche utilisée actuellement par l'équipe."
   ]
  },
  {
   "cell_type": "code",
   "execution_count": 60,
   "id": "359f1539",
   "metadata": {},
   "outputs": [],
   "source": [
    "feature_importance_emissions = final_model_emissions.feature_importances_"
   ]
  },
  {
   "cell_type": "code",
   "execution_count": 61,
   "id": "eb8b5826",
   "metadata": {},
   "outputs": [],
   "source": [
    "def get_preprocessed_features(X_train):\n",
    "    \n",
    "    categorical_features = ['BuildingType', \n",
    "                               'PrimaryPropertyType', \n",
    "                               'Neighborhood', \n",
    "                               'LargestPropertyUseType', \n",
    "                               'SecondLargestPropertyUseType', \n",
    "                               'ThirdLargestPropertyUseType']\n",
    "\n",
    "    OneHot_encoder = OneHotEncoder(handle_unknown='ignore')\n",
    "    \n",
    "    transformer_temp = make_column_transformer((OneHot_encoder, categorical_features), remainder = 'passthrough')\n",
    "    transformer_temp.fit(X_train)\n",
    "    \n",
    "    return transformer_temp.get_feature_names()"
   ]
  },
  {
   "cell_type": "code",
   "execution_count": 62,
   "id": "8adb3f23",
   "metadata": {},
   "outputs": [
    {
     "name": "stderr",
     "output_type": "stream",
     "text": [
      "/Users/leodray/opt/anaconda3/lib/python3.8/site-packages/sklearn/utils/deprecation.py:87: FutureWarning: Function get_feature_names is deprecated; get_feature_names is deprecated in 1.0 and will be removed in 1.2. Please use get_feature_names_out instead.\n",
      "  warnings.warn(msg, category=FutureWarning)\n"
     ]
    }
   ],
   "source": [
    "df_feature_importance_emissions = pd.DataFrame(feature_importance_emissions,\n",
    "                                     index=get_preprocessed_features(X_train),\n",
    "                                     columns=['feature importance']\n",
    "                                    ).sort_values('feature importance', ascending=False).reset_index()"
   ]
  },
  {
   "cell_type": "code",
   "execution_count": 63,
   "id": "276d72fb",
   "metadata": {},
   "outputs": [
    {
     "data": {
      "text/html": [
       "<div>\n",
       "<style scoped>\n",
       "    .dataframe tbody tr th:only-of-type {\n",
       "        vertical-align: middle;\n",
       "    }\n",
       "\n",
       "    .dataframe tbody tr th {\n",
       "        vertical-align: top;\n",
       "    }\n",
       "\n",
       "    .dataframe thead th {\n",
       "        text-align: right;\n",
       "    }\n",
       "</style>\n",
       "<table border=\"1\" class=\"dataframe\">\n",
       "  <thead>\n",
       "    <tr style=\"text-align: right;\">\n",
       "      <th></th>\n",
       "      <th>index</th>\n",
       "      <th>feature importance</th>\n",
       "    </tr>\n",
       "  </thead>\n",
       "  <tbody>\n",
       "    <tr>\n",
       "      <th>0</th>\n",
       "      <td>onehotencoder__x1_other</td>\n",
       "      <td>5.673578e-01</td>\n",
       "    </tr>\n",
       "    <tr>\n",
       "      <th>1</th>\n",
       "      <td>onehotencoder__x1_non-refrigerated warehouse</td>\n",
       "      <td>3.503001e-01</td>\n",
       "    </tr>\n",
       "    <tr>\n",
       "      <th>2</th>\n",
       "      <td>onehotencoder__x1_office</td>\n",
       "      <td>5.966049e-02</td>\n",
       "    </tr>\n",
       "    <tr>\n",
       "      <th>3</th>\n",
       "      <td>onehotencoder__x1_residence hall</td>\n",
       "      <td>7.346163e-03</td>\n",
       "    </tr>\n",
       "    <tr>\n",
       "      <th>4</th>\n",
       "      <td>onehotencoder__x1_k-12 school</td>\n",
       "      <td>3.824421e-03</td>\n",
       "    </tr>\n",
       "    <tr>\n",
       "      <th>5</th>\n",
       "      <td>onehotencoder__x1_distribution center</td>\n",
       "      <td>3.100876e-03</td>\n",
       "    </tr>\n",
       "    <tr>\n",
       "      <th>6</th>\n",
       "      <td>onehotencoder__x1_supermarket / grocery store</td>\n",
       "      <td>2.191050e-03</td>\n",
       "    </tr>\n",
       "    <tr>\n",
       "      <th>7</th>\n",
       "      <td>onehotencoder__x3_wholesale club/supercenter</td>\n",
       "      <td>1.682491e-03</td>\n",
       "    </tr>\n",
       "    <tr>\n",
       "      <th>8</th>\n",
       "      <td>onehotencoder__x0_nonresidential cos</td>\n",
       "      <td>7.610543e-04</td>\n",
       "    </tr>\n",
       "    <tr>\n",
       "      <th>9</th>\n",
       "      <td>onehotencoder__x1_hospital</td>\n",
       "      <td>6.881031e-04</td>\n",
       "    </tr>\n",
       "    <tr>\n",
       "      <th>10</th>\n",
       "      <td>onehotencoder__x1_large office</td>\n",
       "      <td>5.710614e-04</td>\n",
       "    </tr>\n",
       "    <tr>\n",
       "      <th>11</th>\n",
       "      <td>onehotencoder__x1_hotel</td>\n",
       "      <td>4.809582e-04</td>\n",
       "    </tr>\n",
       "    <tr>\n",
       "      <th>12</th>\n",
       "      <td>onehotencoder__x1_low-rise multifamily</td>\n",
       "      <td>3.037888e-04</td>\n",
       "    </tr>\n",
       "    <tr>\n",
       "      <th>13</th>\n",
       "      <td>onehotencoder__x3_self-storage facility</td>\n",
       "      <td>2.653125e-04</td>\n",
       "    </tr>\n",
       "    <tr>\n",
       "      <th>14</th>\n",
       "      <td>onehotencoder__x2_SOUTHWEST</td>\n",
       "      <td>1.867452e-04</td>\n",
       "    </tr>\n",
       "    <tr>\n",
       "      <th>15</th>\n",
       "      <td>onehotencoder__x1_residence hall/dormitory</td>\n",
       "      <td>1.623231e-04</td>\n",
       "    </tr>\n",
       "    <tr>\n",
       "      <th>16</th>\n",
       "      <td>onehotencoder__x0_sps-district k-12</td>\n",
       "      <td>1.614893e-04</td>\n",
       "    </tr>\n",
       "    <tr>\n",
       "      <th>17</th>\n",
       "      <td>onehotencoder__x2_GREATER DUWAMISH</td>\n",
       "      <td>1.393945e-04</td>\n",
       "    </tr>\n",
       "    <tr>\n",
       "      <th>18</th>\n",
       "      <td>onehotencoder__x1_medical office</td>\n",
       "      <td>9.474395e-05</td>\n",
       "    </tr>\n",
       "    <tr>\n",
       "      <th>19</th>\n",
       "      <td>onehotencoder__x4_financial office</td>\n",
       "      <td>5.881134e-05</td>\n",
       "    </tr>\n",
       "    <tr>\n",
       "      <th>20</th>\n",
       "      <td>onehotencoder__x5_convenience store without ga...</td>\n",
       "      <td>5.104087e-05</td>\n",
       "    </tr>\n",
       "    <tr>\n",
       "      <th>21</th>\n",
       "      <td>onehotencoder__x4_medical office</td>\n",
       "      <td>4.815105e-05</td>\n",
       "    </tr>\n",
       "    <tr>\n",
       "      <th>22</th>\n",
       "      <td>onehotencoder__x5_distribution center</td>\n",
       "      <td>4.727916e-05</td>\n",
       "    </tr>\n",
       "    <tr>\n",
       "      <th>23</th>\n",
       "      <td>onehotencoder__x5_data center</td>\n",
       "      <td>3.257967e-05</td>\n",
       "    </tr>\n",
       "    <tr>\n",
       "      <th>24</th>\n",
       "      <td>onehotencoder__x3_non-refrigerated warehouse</td>\n",
       "      <td>3.049992e-05</td>\n",
       "    </tr>\n",
       "    <tr>\n",
       "      <th>25</th>\n",
       "      <td>onehotencoder__x5_refrigerated warehouse</td>\n",
       "      <td>2.878921e-05</td>\n",
       "    </tr>\n",
       "    <tr>\n",
       "      <th>26</th>\n",
       "      <td>onehotencoder__x1_mixed use property</td>\n",
       "      <td>2.553339e-05</td>\n",
       "    </tr>\n",
       "    <tr>\n",
       "      <th>27</th>\n",
       "      <td>onehotencoder__x0_campus</td>\n",
       "      <td>2.412213e-05</td>\n",
       "    </tr>\n",
       "    <tr>\n",
       "      <th>28</th>\n",
       "      <td>onehotencoder__x1_sps-district k-12</td>\n",
       "      <td>2.098166e-05</td>\n",
       "    </tr>\n",
       "    <tr>\n",
       "      <th>29</th>\n",
       "      <td>onehotencoder__x3_hospital (general medical &amp; ...</td>\n",
       "      <td>2.031098e-05</td>\n",
       "    </tr>\n",
       "    <tr>\n",
       "      <th>30</th>\n",
       "      <td>onehotencoder__x4_non-refrigerated warehouse</td>\n",
       "      <td>1.967915e-05</td>\n",
       "    </tr>\n",
       "    <tr>\n",
       "      <th>31</th>\n",
       "      <td>onehotencoder__x1_small- and mid-sized office</td>\n",
       "      <td>1.966791e-05</td>\n",
       "    </tr>\n",
       "    <tr>\n",
       "      <th>32</th>\n",
       "      <td>onehotencoder__x2_LAKE UNION</td>\n",
       "      <td>1.703141e-05</td>\n",
       "    </tr>\n",
       "    <tr>\n",
       "      <th>33</th>\n",
       "      <td>onehotencoder__x4_laboratory</td>\n",
       "      <td>1.673583e-05</td>\n",
       "    </tr>\n",
       "    <tr>\n",
       "      <th>34</th>\n",
       "      <td>onehotencoder__x3_senior care community</td>\n",
       "      <td>1.360307e-05</td>\n",
       "    </tr>\n",
       "    <tr>\n",
       "      <th>35</th>\n",
       "      <td>onehotencoder__x5_bar/nightclub</td>\n",
       "      <td>1.343218e-05</td>\n",
       "    </tr>\n",
       "    <tr>\n",
       "      <th>36</th>\n",
       "      <td>onehotencoder__x5_multifamily housing</td>\n",
       "      <td>1.332733e-05</td>\n",
       "    </tr>\n",
       "    <tr>\n",
       "      <th>37</th>\n",
       "      <td>onehotencoder__x3_k-12 school</td>\n",
       "      <td>1.287008e-05</td>\n",
       "    </tr>\n",
       "    <tr>\n",
       "      <th>38</th>\n",
       "      <td>onehotencoder__x3_other - public services</td>\n",
       "      <td>1.209181e-05</td>\n",
       "    </tr>\n",
       "    <tr>\n",
       "      <th>39</th>\n",
       "      <td>onehotencoder__x3_office</td>\n",
       "      <td>1.173323e-05</td>\n",
       "    </tr>\n",
       "    <tr>\n",
       "      <th>40</th>\n",
       "      <td>onehotencoder__x1_warehouse</td>\n",
       "      <td>1.022034e-05</td>\n",
       "    </tr>\n",
       "    <tr>\n",
       "      <th>41</th>\n",
       "      <td>onehotencoder__x4_supermarket/grocery store</td>\n",
       "      <td>9.583786e-06</td>\n",
       "    </tr>\n",
       "    <tr>\n",
       "      <th>42</th>\n",
       "      <td>onehotencoder__x0_nonresidential</td>\n",
       "      <td>9.529514e-06</td>\n",
       "    </tr>\n",
       "    <tr>\n",
       "      <th>43</th>\n",
       "      <td>onehotencoder__x1_worship facility</td>\n",
       "      <td>9.018529e-06</td>\n",
       "    </tr>\n",
       "    <tr>\n",
       "      <th>44</th>\n",
       "      <td>onehotencoder__x4_No information</td>\n",
       "      <td>8.848633e-06</td>\n",
       "    </tr>\n",
       "    <tr>\n",
       "      <th>45</th>\n",
       "      <td>onehotencoder__x4_other - recreation</td>\n",
       "      <td>8.010687e-06</td>\n",
       "    </tr>\n",
       "    <tr>\n",
       "      <th>46</th>\n",
       "      <td>onehotencoder__x1_self-storage facility</td>\n",
       "      <td>7.905539e-06</td>\n",
       "    </tr>\n",
       "    <tr>\n",
       "      <th>47</th>\n",
       "      <td>onehotencoder__x5_financial office</td>\n",
       "      <td>7.136550e-06</td>\n",
       "    </tr>\n",
       "    <tr>\n",
       "      <th>48</th>\n",
       "      <td>onehotencoder__x4_distribution center</td>\n",
       "      <td>6.812133e-06</td>\n",
       "    </tr>\n",
       "    <tr>\n",
       "      <th>49</th>\n",
       "      <td>onehotencoder__x3_financial office</td>\n",
       "      <td>6.763589e-06</td>\n",
       "    </tr>\n",
       "    <tr>\n",
       "      <th>50</th>\n",
       "      <td>onehotencoder__x3_medical office</td>\n",
       "      <td>6.692452e-06</td>\n",
       "    </tr>\n",
       "    <tr>\n",
       "      <th>51</th>\n",
       "      <td>onehotencoder__x3_refrigerated warehouse</td>\n",
       "      <td>6.661882e-06</td>\n",
       "    </tr>\n",
       "    <tr>\n",
       "      <th>52</th>\n",
       "      <td>onehotencoder__x5_other - recreation</td>\n",
       "      <td>5.646768e-06</td>\n",
       "    </tr>\n",
       "    <tr>\n",
       "      <th>53</th>\n",
       "      <td>onehotencoder__x4_other - entertainment/public...</td>\n",
       "      <td>4.672519e-06</td>\n",
       "    </tr>\n",
       "    <tr>\n",
       "      <th>54</th>\n",
       "      <td>onehotencoder__x2_NORTHEAST</td>\n",
       "      <td>4.096655e-06</td>\n",
       "    </tr>\n",
       "    <tr>\n",
       "      <th>55</th>\n",
       "      <td>onehotencoder__x5_laboratory</td>\n",
       "      <td>3.975489e-06</td>\n",
       "    </tr>\n",
       "    <tr>\n",
       "      <th>56</th>\n",
       "      <td>onehotencoder__x2_CENTRAL</td>\n",
       "      <td>3.893625e-06</td>\n",
       "    </tr>\n",
       "    <tr>\n",
       "      <th>57</th>\n",
       "      <td>onehotencoder__x5_non-refrigerated warehouse</td>\n",
       "      <td>3.885421e-06</td>\n",
       "    </tr>\n",
       "    <tr>\n",
       "      <th>58</th>\n",
       "      <td>onehotencoder__x2_SOUTHEAST</td>\n",
       "      <td>3.807074e-06</td>\n",
       "    </tr>\n",
       "    <tr>\n",
       "      <th>59</th>\n",
       "      <td>onehotencoder__x3_parking</td>\n",
       "      <td>3.605971e-06</td>\n",
       "    </tr>\n",
       "    <tr>\n",
       "      <th>60</th>\n",
       "      <td>onehotencoder__x3_multifamily housing</td>\n",
       "      <td>3.421982e-06</td>\n",
       "    </tr>\n",
       "    <tr>\n",
       "      <th>61</th>\n",
       "      <td>onehotencoder__x3_hotel</td>\n",
       "      <td>3.102768e-06</td>\n",
       "    </tr>\n",
       "    <tr>\n",
       "      <th>62</th>\n",
       "      <td>onehotencoder__x3_data center</td>\n",
       "      <td>3.096953e-06</td>\n",
       "    </tr>\n",
       "    <tr>\n",
       "      <th>63</th>\n",
       "      <td>natgas_bool</td>\n",
       "      <td>3.075245e-06</td>\n",
       "    </tr>\n",
       "    <tr>\n",
       "      <th>64</th>\n",
       "      <td>onehotencoder__x3_courthouse</td>\n",
       "      <td>2.600897e-06</td>\n",
       "    </tr>\n",
       "    <tr>\n",
       "      <th>65</th>\n",
       "      <td>onehotencoder__x5_personal services (health/be...</td>\n",
       "      <td>2.557100e-06</td>\n",
       "    </tr>\n",
       "    <tr>\n",
       "      <th>66</th>\n",
       "      <td>PropertyGFABuilding(s)</td>\n",
       "      <td>2.382093e-06</td>\n",
       "    </tr>\n",
       "    <tr>\n",
       "      <th>67</th>\n",
       "      <td>onehotencoder__x3_manufacturing/industrial plant</td>\n",
       "      <td>2.356363e-06</td>\n",
       "    </tr>\n",
       "    <tr>\n",
       "      <th>68</th>\n",
       "      <td>onehotencoder__x4_repair services (vehicle, sh...</td>\n",
       "      <td>2.294813e-06</td>\n",
       "    </tr>\n",
       "    <tr>\n",
       "      <th>69</th>\n",
       "      <td>onehotencoder__x4_hotel</td>\n",
       "      <td>2.284674e-06</td>\n",
       "    </tr>\n",
       "    <tr>\n",
       "      <th>70</th>\n",
       "      <td>onehotencoder__x1_retail store</td>\n",
       "      <td>2.196263e-06</td>\n",
       "    </tr>\n",
       "    <tr>\n",
       "      <th>71</th>\n",
       "      <td>onehotencoder__x4_convenience store without ga...</td>\n",
       "      <td>1.833626e-06</td>\n",
       "    </tr>\n",
       "    <tr>\n",
       "      <th>72</th>\n",
       "      <td>onehotencoder__x5_other - services</td>\n",
       "      <td>1.821553e-06</td>\n",
       "    </tr>\n",
       "    <tr>\n",
       "      <th>73</th>\n",
       "      <td>onehotencoder__x3_residence hall/dormitory</td>\n",
       "      <td>1.817369e-06</td>\n",
       "    </tr>\n",
       "    <tr>\n",
       "      <th>74</th>\n",
       "      <td>Longitude</td>\n",
       "      <td>1.812752e-06</td>\n",
       "    </tr>\n",
       "    <tr>\n",
       "      <th>75</th>\n",
       "      <td>onehotencoder__x2_NORTH</td>\n",
       "      <td>1.436777e-06</td>\n",
       "    </tr>\n",
       "    <tr>\n",
       "      <th>76</th>\n",
       "      <td>onehotencoder__x2_DELRIDGE</td>\n",
       "      <td>1.431382e-06</td>\n",
       "    </tr>\n",
       "    <tr>\n",
       "      <th>77</th>\n",
       "      <td>onehotencoder__x4_office</td>\n",
       "      <td>1.422532e-06</td>\n",
       "    </tr>\n",
       "    <tr>\n",
       "      <th>78</th>\n",
       "      <td>RatioLargestUseGFA</td>\n",
       "      <td>1.196150e-06</td>\n",
       "    </tr>\n",
       "    <tr>\n",
       "      <th>79</th>\n",
       "      <td>onehotencoder__x3_other</td>\n",
       "      <td>1.054308e-06</td>\n",
       "    </tr>\n",
       "    <tr>\n",
       "      <th>80</th>\n",
       "      <td>onehotencoder__x5_restaurant</td>\n",
       "      <td>9.397844e-07</td>\n",
       "    </tr>\n",
       "    <tr>\n",
       "      <th>81</th>\n",
       "      <td>onehotencoder__x5_other - education</td>\n",
       "      <td>8.613110e-07</td>\n",
       "    </tr>\n",
       "    <tr>\n",
       "      <th>82</th>\n",
       "      <td>Latitude</td>\n",
       "      <td>8.046763e-07</td>\n",
       "    </tr>\n",
       "    <tr>\n",
       "      <th>83</th>\n",
       "      <td>onehotencoder__x5_parking</td>\n",
       "      <td>7.933766e-07</td>\n",
       "    </tr>\n",
       "    <tr>\n",
       "      <th>84</th>\n",
       "      <td>onehotencoder__x2_DOWNTOWN</td>\n",
       "      <td>7.850301e-07</td>\n",
       "    </tr>\n",
       "    <tr>\n",
       "      <th>85</th>\n",
       "      <td>onehotencoder__x3_distribution center</td>\n",
       "      <td>7.667712e-07</td>\n",
       "    </tr>\n",
       "    <tr>\n",
       "      <th>86</th>\n",
       "      <td>onehotencoder__x5_social/meeting hall</td>\n",
       "      <td>7.114360e-07</td>\n",
       "    </tr>\n",
       "    <tr>\n",
       "      <th>87</th>\n",
       "      <td>onehotencoder__x3_bank branch</td>\n",
       "      <td>6.850554e-07</td>\n",
       "    </tr>\n",
       "    <tr>\n",
       "      <th>88</th>\n",
       "      <td>onehotencoder__x5_office</td>\n",
       "      <td>6.144188e-07</td>\n",
       "    </tr>\n",
       "    <tr>\n",
       "      <th>89</th>\n",
       "      <td>natgas_prop</td>\n",
       "      <td>5.615408e-07</td>\n",
       "    </tr>\n",
       "    <tr>\n",
       "      <th>90</th>\n",
       "      <td>PropertyGFAParking</td>\n",
       "      <td>4.447290e-07</td>\n",
       "    </tr>\n",
       "    <tr>\n",
       "      <th>91</th>\n",
       "      <td>onehotencoder__x4_other - education</td>\n",
       "      <td>3.604794e-07</td>\n",
       "    </tr>\n",
       "    <tr>\n",
       "      <th>92</th>\n",
       "      <td>onehotencoder__x5_other - restaurant/bar</td>\n",
       "      <td>2.826138e-07</td>\n",
       "    </tr>\n",
       "    <tr>\n",
       "      <th>93</th>\n",
       "      <td>CouncilDistrictCode</td>\n",
       "      <td>2.768134e-07</td>\n",
       "    </tr>\n",
       "    <tr>\n",
       "      <th>94</th>\n",
       "      <td>onehotencoder__x3_supermarket/grocery store</td>\n",
       "      <td>2.640473e-07</td>\n",
       "    </tr>\n",
       "    <tr>\n",
       "      <th>95</th>\n",
       "      <td>onehotencoder__x5_retail store</td>\n",
       "      <td>6.241584e-08</td>\n",
       "    </tr>\n",
       "    <tr>\n",
       "      <th>96</th>\n",
       "      <td>RatioSecondUseGFA</td>\n",
       "      <td>5.923618e-08</td>\n",
       "    </tr>\n",
       "    <tr>\n",
       "      <th>97</th>\n",
       "      <td>onehotencoder__x4_k-12 school</td>\n",
       "      <td>4.395450e-08</td>\n",
       "    </tr>\n",
       "    <tr>\n",
       "      <th>98</th>\n",
       "      <td>RatioThirdUseGFA</td>\n",
       "      <td>3.787926e-08</td>\n",
       "    </tr>\n",
       "    <tr>\n",
       "      <th>99</th>\n",
       "      <td>onehotencoder__x3_worship facility</td>\n",
       "      <td>3.206191e-08</td>\n",
       "    </tr>\n",
       "    <tr>\n",
       "      <th>100</th>\n",
       "      <td>onehotencoder__x3_laboratory</td>\n",
       "      <td>1.499676e-08</td>\n",
       "    </tr>\n",
       "    <tr>\n",
       "      <th>101</th>\n",
       "      <td>onehotencoder__x1_senior care community</td>\n",
       "      <td>3.137895e-09</td>\n",
       "    </tr>\n",
       "    <tr>\n",
       "      <th>102</th>\n",
       "      <td>onehotencoder__x5_pre-school/daycare</td>\n",
       "      <td>1.811240e-09</td>\n",
       "    </tr>\n",
       "    <tr>\n",
       "      <th>103</th>\n",
       "      <td>onehotencoder__x1_supermarket/grocery store</td>\n",
       "      <td>1.374824e-09</td>\n",
       "    </tr>\n",
       "    <tr>\n",
       "      <th>104</th>\n",
       "      <td>onehotencoder__x4_data center</td>\n",
       "      <td>0.000000e+00</td>\n",
       "    </tr>\n",
       "    <tr>\n",
       "      <th>105</th>\n",
       "      <td>onehotencoder__x4_multifamily housing</td>\n",
       "      <td>0.000000e+00</td>\n",
       "    </tr>\n",
       "    <tr>\n",
       "      <th>106</th>\n",
       "      <td>NumberofBuildings</td>\n",
       "      <td>0.000000e+00</td>\n",
       "    </tr>\n",
       "    <tr>\n",
       "      <th>107</th>\n",
       "      <td>NumberofFloors</td>\n",
       "      <td>0.000000e+00</td>\n",
       "    </tr>\n",
       "    <tr>\n",
       "      <th>108</th>\n",
       "      <td>onehotencoder__x4_manufacturing/industrial plant</td>\n",
       "      <td>0.000000e+00</td>\n",
       "    </tr>\n",
       "    <tr>\n",
       "      <th>109</th>\n",
       "      <td>onehotencoder__x4_fitness center/health club/gym</td>\n",
       "      <td>0.000000e+00</td>\n",
       "    </tr>\n",
       "    <tr>\n",
       "      <th>110</th>\n",
       "      <td>ENERGYSTARScore</td>\n",
       "      <td>0.000000e+00</td>\n",
       "    </tr>\n",
       "    <tr>\n",
       "      <th>111</th>\n",
       "      <td>onehotencoder__x2_NORTHWEST</td>\n",
       "      <td>0.000000e+00</td>\n",
       "    </tr>\n",
       "    <tr>\n",
       "      <th>112</th>\n",
       "      <td>BuildingAge</td>\n",
       "      <td>0.000000e+00</td>\n",
       "    </tr>\n",
       "    <tr>\n",
       "      <th>113</th>\n",
       "      <td>onehotencoder__x5_swimming pool</td>\n",
       "      <td>0.000000e+00</td>\n",
       "    </tr>\n",
       "    <tr>\n",
       "      <th>114</th>\n",
       "      <td>onehotencoder__x4_bank branch</td>\n",
       "      <td>0.000000e+00</td>\n",
       "    </tr>\n",
       "    <tr>\n",
       "      <th>115</th>\n",
       "      <td>onehotencoder__x4_adult education</td>\n",
       "      <td>0.000000e+00</td>\n",
       "    </tr>\n",
       "    <tr>\n",
       "      <th>116</th>\n",
       "      <td>onehotencoder__x3_No information</td>\n",
       "      <td>0.000000e+00</td>\n",
       "    </tr>\n",
       "    <tr>\n",
       "      <th>117</th>\n",
       "      <td>elec_prop</td>\n",
       "      <td>0.000000e+00</td>\n",
       "    </tr>\n",
       "    <tr>\n",
       "      <th>118</th>\n",
       "      <td>steam_prop</td>\n",
       "      <td>0.000000e+00</td>\n",
       "    </tr>\n",
       "    <tr>\n",
       "      <th>119</th>\n",
       "      <td>onehotencoder__x3_retail store</td>\n",
       "      <td>0.000000e+00</td>\n",
       "    </tr>\n",
       "    <tr>\n",
       "      <th>120</th>\n",
       "      <td>elec_bool</td>\n",
       "      <td>0.000000e+00</td>\n",
       "    </tr>\n",
       "    <tr>\n",
       "      <th>121</th>\n",
       "      <td>steam_bool</td>\n",
       "      <td>0.000000e+00</td>\n",
       "    </tr>\n",
       "    <tr>\n",
       "      <th>122</th>\n",
       "      <td>onehotencoder__x5_worship facility</td>\n",
       "      <td>0.000000e+00</td>\n",
       "    </tr>\n",
       "    <tr>\n",
       "      <th>123</th>\n",
       "      <td>onehotencoder__x2_MAGNOLIA / QUEEN ANNE</td>\n",
       "      <td>0.000000e+00</td>\n",
       "    </tr>\n",
       "    <tr>\n",
       "      <th>124</th>\n",
       "      <td>onehotencoder__x5_fitness center/health club/gym</td>\n",
       "      <td>0.000000e+00</td>\n",
       "    </tr>\n",
       "    <tr>\n",
       "      <th>125</th>\n",
       "      <td>onehotencoder__x5_other</td>\n",
       "      <td>0.000000e+00</td>\n",
       "    </tr>\n",
       "    <tr>\n",
       "      <th>126</th>\n",
       "      <td>onehotencoder__x5_food service</td>\n",
       "      <td>0.000000e+00</td>\n",
       "    </tr>\n",
       "    <tr>\n",
       "      <th>127</th>\n",
       "      <td>onehotencoder__x5_hotel</td>\n",
       "      <td>0.000000e+00</td>\n",
       "    </tr>\n",
       "    <tr>\n",
       "      <th>128</th>\n",
       "      <td>onehotencoder__x5_manufacturing/industrial plant</td>\n",
       "      <td>0.000000e+00</td>\n",
       "    </tr>\n",
       "    <tr>\n",
       "      <th>129</th>\n",
       "      <td>onehotencoder__x5_medical office</td>\n",
       "      <td>0.000000e+00</td>\n",
       "    </tr>\n",
       "    <tr>\n",
       "      <th>130</th>\n",
       "      <td>onehotencoder__x2_BALLARD</td>\n",
       "      <td>0.000000e+00</td>\n",
       "    </tr>\n",
       "    <tr>\n",
       "      <th>131</th>\n",
       "      <td>onehotencoder__x5_No information</td>\n",
       "      <td>0.000000e+00</td>\n",
       "    </tr>\n",
       "    <tr>\n",
       "      <th>132</th>\n",
       "      <td>onehotencoder__x4_worship facility</td>\n",
       "      <td>0.000000e+00</td>\n",
       "    </tr>\n",
       "    <tr>\n",
       "      <th>133</th>\n",
       "      <td>onehotencoder__x4_swimming pool</td>\n",
       "      <td>0.000000e+00</td>\n",
       "    </tr>\n",
       "    <tr>\n",
       "      <th>134</th>\n",
       "      <td>onehotencoder__x4_other</td>\n",
       "      <td>0.000000e+00</td>\n",
       "    </tr>\n",
       "    <tr>\n",
       "      <th>135</th>\n",
       "      <td>onehotencoder__x4_self-storage facility</td>\n",
       "      <td>0.000000e+00</td>\n",
       "    </tr>\n",
       "    <tr>\n",
       "      <th>136</th>\n",
       "      <td>onehotencoder__x4_retail store</td>\n",
       "      <td>0.000000e+00</td>\n",
       "    </tr>\n",
       "    <tr>\n",
       "      <th>137</th>\n",
       "      <td>onehotencoder__x4_restaurant</td>\n",
       "      <td>0.000000e+00</td>\n",
       "    </tr>\n",
       "    <tr>\n",
       "      <th>138</th>\n",
       "      <td>onehotencoder__x4_parking</td>\n",
       "      <td>0.000000e+00</td>\n",
       "    </tr>\n",
       "    <tr>\n",
       "      <th>139</th>\n",
       "      <td>onehotencoder__x4_other - services</td>\n",
       "      <td>0.000000e+00</td>\n",
       "    </tr>\n",
       "    <tr>\n",
       "      <th>140</th>\n",
       "      <td>onehotencoder__x1_refrigerated warehouse</td>\n",
       "      <td>0.000000e+00</td>\n",
       "    </tr>\n",
       "    <tr>\n",
       "      <th>141</th>\n",
       "      <td>onehotencoder__x2_EAST</td>\n",
       "      <td>0.000000e+00</td>\n",
       "    </tr>\n",
       "    <tr>\n",
       "      <th>142</th>\n",
       "      <td>onehotencoder__x5_bank branch</td>\n",
       "      <td>0.000000e+00</td>\n",
       "    </tr>\n",
       "  </tbody>\n",
       "</table>\n",
       "</div>"
      ],
      "text/plain": [
       "                                                 index  feature importance\n",
       "0                              onehotencoder__x1_other        5.673578e-01\n",
       "1         onehotencoder__x1_non-refrigerated warehouse        3.503001e-01\n",
       "2                             onehotencoder__x1_office        5.966049e-02\n",
       "3                     onehotencoder__x1_residence hall        7.346163e-03\n",
       "4                        onehotencoder__x1_k-12 school        3.824421e-03\n",
       "5                onehotencoder__x1_distribution center        3.100876e-03\n",
       "6        onehotencoder__x1_supermarket / grocery store        2.191050e-03\n",
       "7         onehotencoder__x3_wholesale club/supercenter        1.682491e-03\n",
       "8                 onehotencoder__x0_nonresidential cos        7.610543e-04\n",
       "9                           onehotencoder__x1_hospital        6.881031e-04\n",
       "10                      onehotencoder__x1_large office        5.710614e-04\n",
       "11                             onehotencoder__x1_hotel        4.809582e-04\n",
       "12              onehotencoder__x1_low-rise multifamily        3.037888e-04\n",
       "13             onehotencoder__x3_self-storage facility        2.653125e-04\n",
       "14                         onehotencoder__x2_SOUTHWEST        1.867452e-04\n",
       "15          onehotencoder__x1_residence hall/dormitory        1.623231e-04\n",
       "16                 onehotencoder__x0_sps-district k-12        1.614893e-04\n",
       "17                  onehotencoder__x2_GREATER DUWAMISH        1.393945e-04\n",
       "18                    onehotencoder__x1_medical office        9.474395e-05\n",
       "19                  onehotencoder__x4_financial office        5.881134e-05\n",
       "20   onehotencoder__x5_convenience store without ga...        5.104087e-05\n",
       "21                    onehotencoder__x4_medical office        4.815105e-05\n",
       "22               onehotencoder__x5_distribution center        4.727916e-05\n",
       "23                       onehotencoder__x5_data center        3.257967e-05\n",
       "24        onehotencoder__x3_non-refrigerated warehouse        3.049992e-05\n",
       "25            onehotencoder__x5_refrigerated warehouse        2.878921e-05\n",
       "26                onehotencoder__x1_mixed use property        2.553339e-05\n",
       "27                            onehotencoder__x0_campus        2.412213e-05\n",
       "28                 onehotencoder__x1_sps-district k-12        2.098166e-05\n",
       "29   onehotencoder__x3_hospital (general medical & ...        2.031098e-05\n",
       "30        onehotencoder__x4_non-refrigerated warehouse        1.967915e-05\n",
       "31       onehotencoder__x1_small- and mid-sized office        1.966791e-05\n",
       "32                        onehotencoder__x2_LAKE UNION        1.703141e-05\n",
       "33                        onehotencoder__x4_laboratory        1.673583e-05\n",
       "34             onehotencoder__x3_senior care community        1.360307e-05\n",
       "35                     onehotencoder__x5_bar/nightclub        1.343218e-05\n",
       "36               onehotencoder__x5_multifamily housing        1.332733e-05\n",
       "37                       onehotencoder__x3_k-12 school        1.287008e-05\n",
       "38           onehotencoder__x3_other - public services        1.209181e-05\n",
       "39                            onehotencoder__x3_office        1.173323e-05\n",
       "40                         onehotencoder__x1_warehouse        1.022034e-05\n",
       "41         onehotencoder__x4_supermarket/grocery store        9.583786e-06\n",
       "42                    onehotencoder__x0_nonresidential        9.529514e-06\n",
       "43                  onehotencoder__x1_worship facility        9.018529e-06\n",
       "44                    onehotencoder__x4_No information        8.848633e-06\n",
       "45                onehotencoder__x4_other - recreation        8.010687e-06\n",
       "46             onehotencoder__x1_self-storage facility        7.905539e-06\n",
       "47                  onehotencoder__x5_financial office        7.136550e-06\n",
       "48               onehotencoder__x4_distribution center        6.812133e-06\n",
       "49                  onehotencoder__x3_financial office        6.763589e-06\n",
       "50                    onehotencoder__x3_medical office        6.692452e-06\n",
       "51            onehotencoder__x3_refrigerated warehouse        6.661882e-06\n",
       "52                onehotencoder__x5_other - recreation        5.646768e-06\n",
       "53   onehotencoder__x4_other - entertainment/public...        4.672519e-06\n",
       "54                         onehotencoder__x2_NORTHEAST        4.096655e-06\n",
       "55                        onehotencoder__x5_laboratory        3.975489e-06\n",
       "56                           onehotencoder__x2_CENTRAL        3.893625e-06\n",
       "57        onehotencoder__x5_non-refrigerated warehouse        3.885421e-06\n",
       "58                         onehotencoder__x2_SOUTHEAST        3.807074e-06\n",
       "59                           onehotencoder__x3_parking        3.605971e-06\n",
       "60               onehotencoder__x3_multifamily housing        3.421982e-06\n",
       "61                             onehotencoder__x3_hotel        3.102768e-06\n",
       "62                       onehotencoder__x3_data center        3.096953e-06\n",
       "63                                         natgas_bool        3.075245e-06\n",
       "64                        onehotencoder__x3_courthouse        2.600897e-06\n",
       "65   onehotencoder__x5_personal services (health/be...        2.557100e-06\n",
       "66                              PropertyGFABuilding(s)        2.382093e-06\n",
       "67    onehotencoder__x3_manufacturing/industrial plant        2.356363e-06\n",
       "68   onehotencoder__x4_repair services (vehicle, sh...        2.294813e-06\n",
       "69                             onehotencoder__x4_hotel        2.284674e-06\n",
       "70                      onehotencoder__x1_retail store        2.196263e-06\n",
       "71   onehotencoder__x4_convenience store without ga...        1.833626e-06\n",
       "72                  onehotencoder__x5_other - services        1.821553e-06\n",
       "73          onehotencoder__x3_residence hall/dormitory        1.817369e-06\n",
       "74                                           Longitude        1.812752e-06\n",
       "75                             onehotencoder__x2_NORTH        1.436777e-06\n",
       "76                          onehotencoder__x2_DELRIDGE        1.431382e-06\n",
       "77                            onehotencoder__x4_office        1.422532e-06\n",
       "78                                  RatioLargestUseGFA        1.196150e-06\n",
       "79                             onehotencoder__x3_other        1.054308e-06\n",
       "80                        onehotencoder__x5_restaurant        9.397844e-07\n",
       "81                 onehotencoder__x5_other - education        8.613110e-07\n",
       "82                                            Latitude        8.046763e-07\n",
       "83                           onehotencoder__x5_parking        7.933766e-07\n",
       "84                          onehotencoder__x2_DOWNTOWN        7.850301e-07\n",
       "85               onehotencoder__x3_distribution center        7.667712e-07\n",
       "86               onehotencoder__x5_social/meeting hall        7.114360e-07\n",
       "87                       onehotencoder__x3_bank branch        6.850554e-07\n",
       "88                            onehotencoder__x5_office        6.144188e-07\n",
       "89                                         natgas_prop        5.615408e-07\n",
       "90                                  PropertyGFAParking        4.447290e-07\n",
       "91                 onehotencoder__x4_other - education        3.604794e-07\n",
       "92            onehotencoder__x5_other - restaurant/bar        2.826138e-07\n",
       "93                                 CouncilDistrictCode        2.768134e-07\n",
       "94         onehotencoder__x3_supermarket/grocery store        2.640473e-07\n",
       "95                      onehotencoder__x5_retail store        6.241584e-08\n",
       "96                                   RatioSecondUseGFA        5.923618e-08\n",
       "97                       onehotencoder__x4_k-12 school        4.395450e-08\n",
       "98                                    RatioThirdUseGFA        3.787926e-08\n",
       "99                  onehotencoder__x3_worship facility        3.206191e-08\n",
       "100                       onehotencoder__x3_laboratory        1.499676e-08\n",
       "101            onehotencoder__x1_senior care community        3.137895e-09\n",
       "102               onehotencoder__x5_pre-school/daycare        1.811240e-09\n",
       "103        onehotencoder__x1_supermarket/grocery store        1.374824e-09\n",
       "104                      onehotencoder__x4_data center        0.000000e+00\n",
       "105              onehotencoder__x4_multifamily housing        0.000000e+00\n",
       "106                                  NumberofBuildings        0.000000e+00\n",
       "107                                     NumberofFloors        0.000000e+00\n",
       "108   onehotencoder__x4_manufacturing/industrial plant        0.000000e+00\n",
       "109   onehotencoder__x4_fitness center/health club/gym        0.000000e+00\n",
       "110                                    ENERGYSTARScore        0.000000e+00\n",
       "111                        onehotencoder__x2_NORTHWEST        0.000000e+00\n",
       "112                                        BuildingAge        0.000000e+00\n",
       "113                    onehotencoder__x5_swimming pool        0.000000e+00\n",
       "114                      onehotencoder__x4_bank branch        0.000000e+00\n",
       "115                  onehotencoder__x4_adult education        0.000000e+00\n",
       "116                   onehotencoder__x3_No information        0.000000e+00\n",
       "117                                          elec_prop        0.000000e+00\n",
       "118                                         steam_prop        0.000000e+00\n",
       "119                     onehotencoder__x3_retail store        0.000000e+00\n",
       "120                                          elec_bool        0.000000e+00\n",
       "121                                         steam_bool        0.000000e+00\n",
       "122                 onehotencoder__x5_worship facility        0.000000e+00\n",
       "123            onehotencoder__x2_MAGNOLIA / QUEEN ANNE        0.000000e+00\n",
       "124   onehotencoder__x5_fitness center/health club/gym        0.000000e+00\n",
       "125                            onehotencoder__x5_other        0.000000e+00\n",
       "126                     onehotencoder__x5_food service        0.000000e+00\n",
       "127                            onehotencoder__x5_hotel        0.000000e+00\n",
       "128   onehotencoder__x5_manufacturing/industrial plant        0.000000e+00\n",
       "129                   onehotencoder__x5_medical office        0.000000e+00\n",
       "130                          onehotencoder__x2_BALLARD        0.000000e+00\n",
       "131                   onehotencoder__x5_No information        0.000000e+00\n",
       "132                 onehotencoder__x4_worship facility        0.000000e+00\n",
       "133                    onehotencoder__x4_swimming pool        0.000000e+00\n",
       "134                            onehotencoder__x4_other        0.000000e+00\n",
       "135            onehotencoder__x4_self-storage facility        0.000000e+00\n",
       "136                     onehotencoder__x4_retail store        0.000000e+00\n",
       "137                       onehotencoder__x4_restaurant        0.000000e+00\n",
       "138                          onehotencoder__x4_parking        0.000000e+00\n",
       "139                 onehotencoder__x4_other - services        0.000000e+00\n",
       "140           onehotencoder__x1_refrigerated warehouse        0.000000e+00\n",
       "141                             onehotencoder__x2_EAST        0.000000e+00\n",
       "142                      onehotencoder__x5_bank branch        0.000000e+00"
      ]
     },
     "metadata": {},
     "output_type": "display_data"
    }
   ],
   "source": [
    "display(df_feature_importance_emissions)"
   ]
  },
  {
   "cell_type": "code",
   "execution_count": 64,
   "id": "bf773ecf",
   "metadata": {},
   "outputs": [
    {
     "data": {
      "text/html": [
       "<div>\n",
       "<style scoped>\n",
       "    .dataframe tbody tr th:only-of-type {\n",
       "        vertical-align: middle;\n",
       "    }\n",
       "\n",
       "    .dataframe tbody tr th {\n",
       "        vertical-align: top;\n",
       "    }\n",
       "\n",
       "    .dataframe thead th {\n",
       "        text-align: right;\n",
       "    }\n",
       "</style>\n",
       "<table border=\"1\" class=\"dataframe\">\n",
       "  <thead>\n",
       "    <tr style=\"text-align: right;\">\n",
       "      <th></th>\n",
       "      <th>index</th>\n",
       "      <th>feature importance</th>\n",
       "    </tr>\n",
       "  </thead>\n",
       "  <tbody>\n",
       "    <tr>\n",
       "      <th>110</th>\n",
       "      <td>ENERGYSTARScore</td>\n",
       "      <td>0.0</td>\n",
       "    </tr>\n",
       "  </tbody>\n",
       "</table>\n",
       "</div>"
      ],
      "text/plain": [
       "               index  feature importance\n",
       "110  ENERGYSTARScore                 0.0"
      ]
     },
     "execution_count": 64,
     "metadata": {},
     "output_type": "execute_result"
    }
   ],
   "source": [
    "df_feature_importance_emissions[df_feature_importance_emissions['index'] == 'ENERGYSTARScore']"
   ]
  },
  {
   "cell_type": "markdown",
   "id": "e305f7e4",
   "metadata": {},
   "source": [
    "Pour ce qui est du modèle prédictif des émissions des propriétés, l'ENERGYSTARScore n'est que le 110ème feature en termes d'importance dans la capacité de prédiction du modèle. On voit que sa feature importance est négligeable. On peut donc conclure que cette variable a très peu d'intérêt pour la prédiction des émissions."
   ]
  }
 ],
 "metadata": {
  "kernelspec": {
   "display_name": "Python 3 (ipykernel)",
   "language": "python",
   "name": "python3"
  },
  "language_info": {
   "codemirror_mode": {
    "name": "ipython",
    "version": 3
   },
   "file_extension": ".py",
   "mimetype": "text/x-python",
   "name": "python",
   "nbconvert_exporter": "python",
   "pygments_lexer": "ipython3",
   "version": "3.8.8"
  }
 },
 "nbformat": 4,
 "nbformat_minor": 5
}
